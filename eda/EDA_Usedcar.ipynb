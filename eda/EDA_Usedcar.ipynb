{
  "cells": [
    {
      "cell_type": "markdown",
      "metadata": {
        "id": "AODw7dX5bK_W"
      },
      "source": [
        "\n",
        "# Used Car Price Exploration\n",
        "\n",
        "This notebook introduces the pandas library for data loading and prepartation and explores techniques of Exploratory Data Analysis (EDA).\n",
        "\n",
        "### Dataset\n",
        "\n",
        "**Filename**: usercarlastest.csv\n",
        "\n",
        "It is a comma separated file and there are 14 columns in the dataset.\n",
        "\n",
        "1. Id - Car's id\n",
        "2. Name - The brand and model of the car.\n",
        "3. Location - The location in which the car is being sold or is available for purchase.\n",
        "4. Year - The year or edition of the model.\n",
        "5. Kilometers_Driven - The total kilometers are driven in the car by the previous owner(s) in KM.\n",
        "6. Fuel_Type - The type of fuel used by the car. (Petrol, Diesel, Electric, CNG, LPG)\n",
        "7. Transmission - The type of transmission used by the car. (Automatic / Manual)\n",
        "8. Owner_Type - First, Second, Third, or Fourth & Above\n",
        "9. Mileage - The standard mileage offered by the car company in kmpl or km/kg\n",
        "10. Engine - The displacement volume of the engine in CC.\n",
        "11. Power - The maximum power of the engine in bhp.\n",
        "12. Seats - The number of seats in the car.\n",
        "13. New_Price - The price of a new car of the same model.\n",
        "14. Price - The price of the car (target)."
      ]
    },
    {
      "cell_type": "markdown",
      "metadata": {
        "id": "Llduk-glbK_X"
      },
      "source": [
        "#### Importing required libraries"
      ]
    },
    {
      "cell_type": "code",
      "execution_count": null,
      "metadata": {
        "id": "7iCN87mhbK_X"
      },
      "outputs": [],
      "source": [
        "import pandas as pd\n",
        "import numpy as np"
      ]
    },
    {
      "cell_type": "markdown",
      "metadata": {
        "id": "EFQT0Z0zbK_Y"
      },
      "source": [
        "#### Check Library Versions"
      ]
    },
    {
      "cell_type": "code",
      "execution_count": null,
      "metadata": {
        "id": "-SkIdGWWbK_Y",
        "outputId": "a960db94-af57-48d3-e292-d11c4490ebb9"
      },
      "outputs": [
        {
          "data": {
            "text/plain": [
              "'1.0.5'"
            ]
          },
          "execution_count": 2,
          "metadata": {},
          "output_type": "execute_result"
        }
      ],
      "source": [
        "pd.__version__"
      ]
    },
    {
      "cell_type": "code",
      "execution_count": null,
      "metadata": {
        "id": "CURbw650bK_Y",
        "outputId": "4531de5f-5c6a-4e23-dd4f-19ca32962d16"
      },
      "outputs": [
        {
          "data": {
            "text/plain": [
              "'1.18.5'"
            ]
          },
          "execution_count": 3,
          "metadata": {},
          "output_type": "execute_result"
        }
      ],
      "source": [
        "np.__version__"
      ]
    },
    {
      "cell_type": "markdown",
      "metadata": {
        "id": "qmF9lVZObK_Z"
      },
      "source": [
        "### Loading the dataset"
      ]
    },
    {
      "cell_type": "code",
      "execution_count": null,
      "metadata": {
        "id": "Cne9HVfSbK_Z"
      },
      "outputs": [],
      "source": [
        "cars_df = pd.read_csv( \"usercarlastest.csv\" )"
      ]
    },
    {
      "cell_type": "code",
      "execution_count": null,
      "metadata": {
        "id": "zMsh9PYUbK_Z",
        "outputId": "ad09a072-e33e-444a-f086-95354491fa23"
      },
      "outputs": [
        {
          "data": {
            "text/plain": [
              "pandas.core.frame.DataFrame"
            ]
          },
          "execution_count": 5,
          "metadata": {},
          "output_type": "execute_result"
        }
      ],
      "source": [
        "type(cars_df)"
      ]
    },
    {
      "cell_type": "markdown",
      "metadata": {
        "id": "DeKDTPBsbK_a"
      },
      "source": [
        "### Showing few records"
      ]
    },
    {
      "cell_type": "code",
      "execution_count": null,
      "metadata": {
        "scrolled": true,
        "id": "NZAPcyjJbK_a",
        "outputId": "1ec03af7-6ca7-414a-925a-d4b6187afcc5"
      },
      "outputs": [
        {
          "data": {
            "text/html": [
              "<div>\n",
              "<style scoped>\n",
              "    .dataframe tbody tr th:only-of-type {\n",
              "        vertical-align: middle;\n",
              "    }\n",
              "\n",
              "    .dataframe tbody tr th {\n",
              "        vertical-align: top;\n",
              "    }\n",
              "\n",
              "    .dataframe thead th {\n",
              "        text-align: right;\n",
              "    }\n",
              "</style>\n",
              "<table border=\"1\" class=\"dataframe\">\n",
              "  <thead>\n",
              "    <tr style=\"text-align: right;\">\n",
              "      <th></th>\n",
              "      <th>index</th>\n",
              "      <th>Name</th>\n",
              "      <th>Location</th>\n",
              "      <th>Year</th>\n",
              "      <th>Kilometers_Driven</th>\n",
              "      <th>Fuel_Type</th>\n",
              "      <th>Transmission</th>\n",
              "      <th>Owner_Type</th>\n",
              "      <th>Mileage</th>\n",
              "      <th>Engine</th>\n",
              "      <th>Power</th>\n",
              "      <th>Seats</th>\n",
              "      <th>New_Price</th>\n",
              "      <th>Price</th>\n",
              "    </tr>\n",
              "  </thead>\n",
              "  <tbody>\n",
              "    <tr>\n",
              "      <th>0</th>\n",
              "      <td>2</td>\n",
              "      <td>Honda Jazz V</td>\n",
              "      <td>Chennai</td>\n",
              "      <td>2011</td>\n",
              "      <td>46000</td>\n",
              "      <td>Petrol</td>\n",
              "      <td>Manual</td>\n",
              "      <td>First</td>\n",
              "      <td>18.2 kmpl</td>\n",
              "      <td>1199 CC</td>\n",
              "      <td>88.7 bhp</td>\n",
              "      <td>5.0</td>\n",
              "      <td>8.61 Lakh</td>\n",
              "      <td>4.50</td>\n",
              "    </tr>\n",
              "    <tr>\n",
              "      <th>1</th>\n",
              "      <td>3</td>\n",
              "      <td>Maruti Ertiga VDI</td>\n",
              "      <td>Chennai</td>\n",
              "      <td>2012</td>\n",
              "      <td>87000</td>\n",
              "      <td>Diesel</td>\n",
              "      <td>Manual</td>\n",
              "      <td>First</td>\n",
              "      <td>20.77 kmpl</td>\n",
              "      <td>1248 CC</td>\n",
              "      <td>88.76 bhp</td>\n",
              "      <td>7.0</td>\n",
              "      <td>NaN</td>\n",
              "      <td>6.00</td>\n",
              "    </tr>\n",
              "    <tr>\n",
              "      <th>2</th>\n",
              "      <td>6</td>\n",
              "      <td>Nissan Micra Diesel XV</td>\n",
              "      <td>Jaipur</td>\n",
              "      <td>2013</td>\n",
              "      <td>86999</td>\n",
              "      <td>Diesel</td>\n",
              "      <td>Manual</td>\n",
              "      <td>First</td>\n",
              "      <td>23.08 kmpl</td>\n",
              "      <td>1461 CC</td>\n",
              "      <td>63.1 bhp</td>\n",
              "      <td>5.0</td>\n",
              "      <td>NaN</td>\n",
              "      <td>3.50</td>\n",
              "    </tr>\n",
              "    <tr>\n",
              "      <th>3</th>\n",
              "      <td>9</td>\n",
              "      <td>Tata Indica Vista Quadrajet LS</td>\n",
              "      <td>Chennai</td>\n",
              "      <td>2012</td>\n",
              "      <td>65932</td>\n",
              "      <td>Diesel</td>\n",
              "      <td>Manual</td>\n",
              "      <td>Second</td>\n",
              "      <td>22.3 kmpl</td>\n",
              "      <td>1248 CC</td>\n",
              "      <td>74 bhp</td>\n",
              "      <td>5.0</td>\n",
              "      <td>NaN</td>\n",
              "      <td>1.95</td>\n",
              "    </tr>\n",
              "    <tr>\n",
              "      <th>4</th>\n",
              "      <td>12</td>\n",
              "      <td>Maruti Swift VDI BSIV</td>\n",
              "      <td>Jaipur</td>\n",
              "      <td>2015</td>\n",
              "      <td>64424</td>\n",
              "      <td>Diesel</td>\n",
              "      <td>Manual</td>\n",
              "      <td>First</td>\n",
              "      <td>25.2 kmpl</td>\n",
              "      <td>1248 CC</td>\n",
              "      <td>74 bhp</td>\n",
              "      <td>5.0</td>\n",
              "      <td>NaN</td>\n",
              "      <td>5.60</td>\n",
              "    </tr>\n",
              "  </tbody>\n",
              "</table>\n",
              "</div>"
            ],
            "text/plain": [
              "   index                            Name Location  Year  Kilometers_Driven  \\\n",
              "0      2                    Honda Jazz V  Chennai  2011              46000   \n",
              "1      3               Maruti Ertiga VDI  Chennai  2012              87000   \n",
              "2      6          Nissan Micra Diesel XV   Jaipur  2013              86999   \n",
              "3      9  Tata Indica Vista Quadrajet LS  Chennai  2012              65932   \n",
              "4     12           Maruti Swift VDI BSIV   Jaipur  2015              64424   \n",
              "\n",
              "  Fuel_Type Transmission Owner_Type     Mileage   Engine      Power  Seats  \\\n",
              "0    Petrol       Manual      First   18.2 kmpl  1199 CC   88.7 bhp    5.0   \n",
              "1    Diesel       Manual      First  20.77 kmpl  1248 CC  88.76 bhp    7.0   \n",
              "2    Diesel       Manual      First  23.08 kmpl  1461 CC   63.1 bhp    5.0   \n",
              "3    Diesel       Manual     Second   22.3 kmpl  1248 CC     74 bhp    5.0   \n",
              "4    Diesel       Manual      First   25.2 kmpl  1248 CC     74 bhp    5.0   \n",
              "\n",
              "   New_Price  Price  \n",
              "0  8.61 Lakh   4.50  \n",
              "1        NaN   6.00  \n",
              "2        NaN   3.50  \n",
              "3        NaN   1.95  \n",
              "4        NaN   5.60  "
            ]
          },
          "execution_count": 6,
          "metadata": {},
          "output_type": "execute_result"
        }
      ],
      "source": [
        "cars_df.head(5)"
      ]
    },
    {
      "cell_type": "code",
      "execution_count": null,
      "metadata": {
        "id": "Uk-GuoQabK_a",
        "outputId": "20d6e763-7c46-4d30-cf0e-9734be827473"
      },
      "outputs": [
        {
          "data": {
            "text/html": [
              "<div>\n",
              "<style scoped>\n",
              "    .dataframe tbody tr th:only-of-type {\n",
              "        vertical-align: middle;\n",
              "    }\n",
              "\n",
              "    .dataframe tbody tr th {\n",
              "        vertical-align: top;\n",
              "    }\n",
              "\n",
              "    .dataframe thead th {\n",
              "        text-align: right;\n",
              "    }\n",
              "</style>\n",
              "<table border=\"1\" class=\"dataframe\">\n",
              "  <thead>\n",
              "    <tr style=\"text-align: right;\">\n",
              "      <th></th>\n",
              "      <th>index</th>\n",
              "      <th>Name</th>\n",
              "      <th>Location</th>\n",
              "      <th>Year</th>\n",
              "      <th>Kilometers_Driven</th>\n",
              "      <th>Fuel_Type</th>\n",
              "      <th>Transmission</th>\n",
              "      <th>Owner_Type</th>\n",
              "      <th>Mileage</th>\n",
              "      <th>Engine</th>\n",
              "      <th>Power</th>\n",
              "      <th>Seats</th>\n",
              "      <th>New_Price</th>\n",
              "      <th>Price</th>\n",
              "    </tr>\n",
              "  </thead>\n",
              "  <tbody>\n",
              "    <tr>\n",
              "      <th>3087</th>\n",
              "      <td>6013</td>\n",
              "      <td>Honda Amaze VX i-DTEC</td>\n",
              "      <td>Coimbatore</td>\n",
              "      <td>2015</td>\n",
              "      <td>70602</td>\n",
              "      <td>Diesel</td>\n",
              "      <td>Manual</td>\n",
              "      <td>First</td>\n",
              "      <td>25.8 kmpl</td>\n",
              "      <td>1498 CC</td>\n",
              "      <td>98.6 bhp</td>\n",
              "      <td>5.0</td>\n",
              "      <td>NaN</td>\n",
              "      <td>4.83</td>\n",
              "    </tr>\n",
              "    <tr>\n",
              "      <th>3088</th>\n",
              "      <td>6014</td>\n",
              "      <td>Maruti Swift VDI</td>\n",
              "      <td>Delhi</td>\n",
              "      <td>2014</td>\n",
              "      <td>27365</td>\n",
              "      <td>Diesel</td>\n",
              "      <td>Manual</td>\n",
              "      <td>First</td>\n",
              "      <td>28.4 kmpl</td>\n",
              "      <td>1248 CC</td>\n",
              "      <td>74 bhp</td>\n",
              "      <td>5.0</td>\n",
              "      <td>7.88 Lakh</td>\n",
              "      <td>4.75</td>\n",
              "    </tr>\n",
              "    <tr>\n",
              "      <th>3089</th>\n",
              "      <td>6015</td>\n",
              "      <td>Hyundai Xcent 1.1 CRDi S</td>\n",
              "      <td>Jaipur</td>\n",
              "      <td>2015</td>\n",
              "      <td>100000</td>\n",
              "      <td>Diesel</td>\n",
              "      <td>Manual</td>\n",
              "      <td>First</td>\n",
              "      <td>24.4 kmpl</td>\n",
              "      <td>1120 CC</td>\n",
              "      <td>71 bhp</td>\n",
              "      <td>5.0</td>\n",
              "      <td>NaN</td>\n",
              "      <td>4.00</td>\n",
              "    </tr>\n",
              "    <tr>\n",
              "      <th>3090</th>\n",
              "      <td>6017</td>\n",
              "      <td>Maruti Wagon R VXI</td>\n",
              "      <td>Kolkata</td>\n",
              "      <td>2013</td>\n",
              "      <td>46000</td>\n",
              "      <td>Petrol</td>\n",
              "      <td>Manual</td>\n",
              "      <td>First</td>\n",
              "      <td>18.9 kmpl</td>\n",
              "      <td>998 CC</td>\n",
              "      <td>67.1 bhp</td>\n",
              "      <td>5.0</td>\n",
              "      <td>NaN</td>\n",
              "      <td>2.65</td>\n",
              "    </tr>\n",
              "    <tr>\n",
              "      <th>3091</th>\n",
              "      <td>6018</td>\n",
              "      <td>Chevrolet Beat Diesel</td>\n",
              "      <td>Hyderabad</td>\n",
              "      <td>2011</td>\n",
              "      <td>47000</td>\n",
              "      <td>Diesel</td>\n",
              "      <td>Manual</td>\n",
              "      <td>First</td>\n",
              "      <td>25.44 kmpl</td>\n",
              "      <td>936 CC</td>\n",
              "      <td>57.6 bhp</td>\n",
              "      <td>5.0</td>\n",
              "      <td>NaN</td>\n",
              "      <td>2.50</td>\n",
              "    </tr>\n",
              "  </tbody>\n",
              "</table>\n",
              "</div>"
            ],
            "text/plain": [
              "      index                      Name    Location  Year  Kilometers_Driven  \\\n",
              "3087   6013     Honda Amaze VX i-DTEC  Coimbatore  2015              70602   \n",
              "3088   6014          Maruti Swift VDI       Delhi  2014              27365   \n",
              "3089   6015  Hyundai Xcent 1.1 CRDi S      Jaipur  2015             100000   \n",
              "3090   6017        Maruti Wagon R VXI     Kolkata  2013              46000   \n",
              "3091   6018     Chevrolet Beat Diesel   Hyderabad  2011              47000   \n",
              "\n",
              "     Fuel_Type Transmission Owner_Type     Mileage   Engine     Power  Seats  \\\n",
              "3087    Diesel       Manual      First   25.8 kmpl  1498 CC  98.6 bhp    5.0   \n",
              "3088    Diesel       Manual      First   28.4 kmpl  1248 CC    74 bhp    5.0   \n",
              "3089    Diesel       Manual      First   24.4 kmpl  1120 CC    71 bhp    5.0   \n",
              "3090    Petrol       Manual      First   18.9 kmpl   998 CC  67.1 bhp    5.0   \n",
              "3091    Diesel       Manual      First  25.44 kmpl   936 CC  57.6 bhp    5.0   \n",
              "\n",
              "      New_Price  Price  \n",
              "3087        NaN   4.83  \n",
              "3088  7.88 Lakh   4.75  \n",
              "3089        NaN   4.00  \n",
              "3090        NaN   2.65  \n",
              "3091        NaN   2.50  "
            ]
          },
          "execution_count": 7,
          "metadata": {},
          "output_type": "execute_result"
        }
      ],
      "source": [
        "cars_df.tail(5)"
      ]
    },
    {
      "cell_type": "markdown",
      "metadata": {
        "id": "Sg-0Gw4DbK_a"
      },
      "source": [
        "## Getting metadata"
      ]
    },
    {
      "cell_type": "code",
      "execution_count": null,
      "metadata": {
        "id": "QeE0zM_EbK_a",
        "outputId": "09bc826e-c71a-4fad-95fb-0a81c0208a12"
      },
      "outputs": [
        {
          "data": {
            "text/plain": [
              "(3092, 14)"
            ]
          },
          "execution_count": 8,
          "metadata": {},
          "output_type": "execute_result"
        }
      ],
      "source": [
        "## Dimension of the dataset\n",
        "cars_df.shape"
      ]
    },
    {
      "cell_type": "code",
      "execution_count": null,
      "metadata": {
        "id": "hQzrsEeBbK_a",
        "outputId": "9a0281c1-c5fa-4057-fbfc-4245221ad116"
      },
      "outputs": [
        {
          "name": "stdout",
          "output_type": "stream",
          "text": [
            "<class 'pandas.core.frame.DataFrame'>\n",
            "RangeIndex: 3092 entries, 0 to 3091\n",
            "Data columns (total 14 columns):\n",
            " #   Column             Non-Null Count  Dtype  \n",
            "---  ------             --------------  -----  \n",
            " 0   index              3092 non-null   int64  \n",
            " 1   Name               3092 non-null   object \n",
            " 2   Location           3092 non-null   object \n",
            " 3   Year               3092 non-null   int64  \n",
            " 4   Kilometers_Driven  3092 non-null   int64  \n",
            " 5   Fuel_Type          3092 non-null   object \n",
            " 6   Transmission       3092 non-null   object \n",
            " 7   Owner_Type         3092 non-null   object \n",
            " 8   Mileage            3092 non-null   object \n",
            " 9   Engine             3092 non-null   object \n",
            " 10  Power              3092 non-null   object \n",
            " 11  Seats              3091 non-null   float64\n",
            " 12  New_Price          411 non-null    object \n",
            " 13  Price              3092 non-null   float64\n",
            "dtypes: float64(2), int64(3), object(9)\n",
            "memory usage: 338.3+ KB\n"
          ]
        }
      ],
      "source": [
        "cars_df.info()"
      ]
    },
    {
      "cell_type": "markdown",
      "metadata": {
        "id": "b_5_p8FHbK_a"
      },
      "source": [
        "## Indexing and Slicing\n",
        "\n",
        "Selecting specific set of rows and columns: How to slice, dice, and generally get and set subsets of pandas objects.\n",
        "\n",
        "Detailed Tutorial: https://pandas.pydata.org/pandas-docs/dev/user_guide/indexing.html"
      ]
    },
    {
      "cell_type": "code",
      "execution_count": null,
      "metadata": {
        "id": "49smXdPWbK_a",
        "outputId": "af872a89-c4ef-4028-9581-7476ff782f54"
      },
      "outputs": [
        {
          "data": {
            "text/html": [
              "<div>\n",
              "<style scoped>\n",
              "    .dataframe tbody tr th:only-of-type {\n",
              "        vertical-align: middle;\n",
              "    }\n",
              "\n",
              "    .dataframe tbody tr th {\n",
              "        vertical-align: top;\n",
              "    }\n",
              "\n",
              "    .dataframe thead th {\n",
              "        text-align: right;\n",
              "    }\n",
              "</style>\n",
              "<table border=\"1\" class=\"dataframe\">\n",
              "  <thead>\n",
              "    <tr style=\"text-align: right;\">\n",
              "      <th></th>\n",
              "      <th>index</th>\n",
              "      <th>Name</th>\n",
              "      <th>Location</th>\n",
              "      <th>Year</th>\n",
              "      <th>Kilometers_Driven</th>\n",
              "      <th>Fuel_Type</th>\n",
              "      <th>Transmission</th>\n",
              "      <th>Owner_Type</th>\n",
              "      <th>Mileage</th>\n",
              "      <th>Engine</th>\n",
              "      <th>Power</th>\n",
              "      <th>Seats</th>\n",
              "      <th>New_Price</th>\n",
              "      <th>Price</th>\n",
              "    </tr>\n",
              "  </thead>\n",
              "  <tbody>\n",
              "    <tr>\n",
              "      <th>4</th>\n",
              "      <td>12</td>\n",
              "      <td>Maruti Swift VDI BSIV</td>\n",
              "      <td>Jaipur</td>\n",
              "      <td>2015</td>\n",
              "      <td>64424</td>\n",
              "      <td>Diesel</td>\n",
              "      <td>Manual</td>\n",
              "      <td>First</td>\n",
              "      <td>25.2 kmpl</td>\n",
              "      <td>1248 CC</td>\n",
              "      <td>74 bhp</td>\n",
              "      <td>5.0</td>\n",
              "      <td>NaN</td>\n",
              "      <td>5.60</td>\n",
              "    </tr>\n",
              "    <tr>\n",
              "      <th>5</th>\n",
              "      <td>16</td>\n",
              "      <td>Honda Amaze S i-Dtech</td>\n",
              "      <td>Kochi</td>\n",
              "      <td>2016</td>\n",
              "      <td>58950</td>\n",
              "      <td>Diesel</td>\n",
              "      <td>Manual</td>\n",
              "      <td>First</td>\n",
              "      <td>25.8 kmpl</td>\n",
              "      <td>1498 CC</td>\n",
              "      <td>98.6 bhp</td>\n",
              "      <td>5.0</td>\n",
              "      <td>NaN</td>\n",
              "      <td>5.40</td>\n",
              "    </tr>\n",
              "    <tr>\n",
              "      <th>6</th>\n",
              "      <td>17</td>\n",
              "      <td>Maruti Swift DDiS VDI</td>\n",
              "      <td>Jaipur</td>\n",
              "      <td>2017</td>\n",
              "      <td>25000</td>\n",
              "      <td>Diesel</td>\n",
              "      <td>Manual</td>\n",
              "      <td>First</td>\n",
              "      <td>28.4 kmpl</td>\n",
              "      <td>1248 CC</td>\n",
              "      <td>74 bhp</td>\n",
              "      <td>5.0</td>\n",
              "      <td>NaN</td>\n",
              "      <td>5.99</td>\n",
              "    </tr>\n",
              "    <tr>\n",
              "      <th>7</th>\n",
              "      <td>18</td>\n",
              "      <td>Renault Duster 85PS Diesel RxL Plus</td>\n",
              "      <td>Kochi</td>\n",
              "      <td>2014</td>\n",
              "      <td>77469</td>\n",
              "      <td>Diesel</td>\n",
              "      <td>Manual</td>\n",
              "      <td>First</td>\n",
              "      <td>20.45 kmpl</td>\n",
              "      <td>1461 CC</td>\n",
              "      <td>83.8 bhp</td>\n",
              "      <td>5.0</td>\n",
              "      <td>NaN</td>\n",
              "      <td>6.34</td>\n",
              "    </tr>\n",
              "    <tr>\n",
              "      <th>8</th>\n",
              "      <td>21</td>\n",
              "      <td>Maruti S Cross DDiS 200 Alpha</td>\n",
              "      <td>Bangalore</td>\n",
              "      <td>2015</td>\n",
              "      <td>55392</td>\n",
              "      <td>Diesel</td>\n",
              "      <td>Manual</td>\n",
              "      <td>Second</td>\n",
              "      <td>23.65 kmpl</td>\n",
              "      <td>1248 CC</td>\n",
              "      <td>88.5 bhp</td>\n",
              "      <td>5.0</td>\n",
              "      <td>NaN</td>\n",
              "      <td>8.25</td>\n",
              "    </tr>\n",
              "    <tr>\n",
              "      <th>9</th>\n",
              "      <td>23</td>\n",
              "      <td>Hyundai i20 1.2 Magna</td>\n",
              "      <td>Kolkata</td>\n",
              "      <td>2010</td>\n",
              "      <td>45807</td>\n",
              "      <td>Petrol</td>\n",
              "      <td>Manual</td>\n",
              "      <td>First</td>\n",
              "      <td>18.5 kmpl</td>\n",
              "      <td>1197 CC</td>\n",
              "      <td>80 bhp</td>\n",
              "      <td>5.0</td>\n",
              "      <td>NaN</td>\n",
              "      <td>1.87</td>\n",
              "    </tr>\n",
              "  </tbody>\n",
              "</table>\n",
              "</div>"
            ],
            "text/plain": [
              "   index                                 Name   Location  Year  \\\n",
              "4     12                Maruti Swift VDI BSIV     Jaipur  2015   \n",
              "5     16                Honda Amaze S i-Dtech      Kochi  2016   \n",
              "6     17                Maruti Swift DDiS VDI     Jaipur  2017   \n",
              "7     18  Renault Duster 85PS Diesel RxL Plus      Kochi  2014   \n",
              "8     21        Maruti S Cross DDiS 200 Alpha  Bangalore  2015   \n",
              "9     23                Hyundai i20 1.2 Magna    Kolkata  2010   \n",
              "\n",
              "   Kilometers_Driven Fuel_Type Transmission Owner_Type     Mileage   Engine  \\\n",
              "4              64424    Diesel       Manual      First   25.2 kmpl  1248 CC   \n",
              "5              58950    Diesel       Manual      First   25.8 kmpl  1498 CC   \n",
              "6              25000    Diesel       Manual      First   28.4 kmpl  1248 CC   \n",
              "7              77469    Diesel       Manual      First  20.45 kmpl  1461 CC   \n",
              "8              55392    Diesel       Manual     Second  23.65 kmpl  1248 CC   \n",
              "9              45807    Petrol       Manual      First   18.5 kmpl  1197 CC   \n",
              "\n",
              "      Power  Seats New_Price  Price  \n",
              "4    74 bhp    5.0       NaN   5.60  \n",
              "5  98.6 bhp    5.0       NaN   5.40  \n",
              "6    74 bhp    5.0       NaN   5.99  \n",
              "7  83.8 bhp    5.0       NaN   6.34  \n",
              "8  88.5 bhp    5.0       NaN   8.25  \n",
              "9    80 bhp    5.0       NaN   1.87  "
            ]
          },
          "execution_count": 10,
          "metadata": {},
          "output_type": "execute_result"
        }
      ],
      "source": [
        "cars_df[4:10]"
      ]
    },
    {
      "cell_type": "code",
      "execution_count": null,
      "metadata": {
        "id": "1uaAXiL0bK_b",
        "outputId": "fd1de079-9d39-4c25-a802-cde59dc9246c"
      },
      "outputs": [
        {
          "data": {
            "text/html": [
              "<div>\n",
              "<style scoped>\n",
              "    .dataframe tbody tr th:only-of-type {\n",
              "        vertical-align: middle;\n",
              "    }\n",
              "\n",
              "    .dataframe tbody tr th {\n",
              "        vertical-align: top;\n",
              "    }\n",
              "\n",
              "    .dataframe thead th {\n",
              "        text-align: right;\n",
              "    }\n",
              "</style>\n",
              "<table border=\"1\" class=\"dataframe\">\n",
              "  <thead>\n",
              "    <tr style=\"text-align: right;\">\n",
              "      <th></th>\n",
              "      <th>index</th>\n",
              "      <th>Name</th>\n",
              "      <th>Location</th>\n",
              "      <th>Year</th>\n",
              "      <th>Kilometers_Driven</th>\n",
              "      <th>Fuel_Type</th>\n",
              "      <th>Transmission</th>\n",
              "      <th>Owner_Type</th>\n",
              "      <th>Mileage</th>\n",
              "      <th>Engine</th>\n",
              "      <th>Power</th>\n",
              "      <th>Seats</th>\n",
              "      <th>New_Price</th>\n",
              "      <th>Price</th>\n",
              "    </tr>\n",
              "  </thead>\n",
              "  <tbody>\n",
              "    <tr>\n",
              "      <th>3087</th>\n",
              "      <td>6013</td>\n",
              "      <td>Honda Amaze VX i-DTEC</td>\n",
              "      <td>Coimbatore</td>\n",
              "      <td>2015</td>\n",
              "      <td>70602</td>\n",
              "      <td>Diesel</td>\n",
              "      <td>Manual</td>\n",
              "      <td>First</td>\n",
              "      <td>25.8 kmpl</td>\n",
              "      <td>1498 CC</td>\n",
              "      <td>98.6 bhp</td>\n",
              "      <td>5.0</td>\n",
              "      <td>NaN</td>\n",
              "      <td>4.83</td>\n",
              "    </tr>\n",
              "    <tr>\n",
              "      <th>3088</th>\n",
              "      <td>6014</td>\n",
              "      <td>Maruti Swift VDI</td>\n",
              "      <td>Delhi</td>\n",
              "      <td>2014</td>\n",
              "      <td>27365</td>\n",
              "      <td>Diesel</td>\n",
              "      <td>Manual</td>\n",
              "      <td>First</td>\n",
              "      <td>28.4 kmpl</td>\n",
              "      <td>1248 CC</td>\n",
              "      <td>74 bhp</td>\n",
              "      <td>5.0</td>\n",
              "      <td>7.88 Lakh</td>\n",
              "      <td>4.75</td>\n",
              "    </tr>\n",
              "    <tr>\n",
              "      <th>3089</th>\n",
              "      <td>6015</td>\n",
              "      <td>Hyundai Xcent 1.1 CRDi S</td>\n",
              "      <td>Jaipur</td>\n",
              "      <td>2015</td>\n",
              "      <td>100000</td>\n",
              "      <td>Diesel</td>\n",
              "      <td>Manual</td>\n",
              "      <td>First</td>\n",
              "      <td>24.4 kmpl</td>\n",
              "      <td>1120 CC</td>\n",
              "      <td>71 bhp</td>\n",
              "      <td>5.0</td>\n",
              "      <td>NaN</td>\n",
              "      <td>4.00</td>\n",
              "    </tr>\n",
              "    <tr>\n",
              "      <th>3090</th>\n",
              "      <td>6017</td>\n",
              "      <td>Maruti Wagon R VXI</td>\n",
              "      <td>Kolkata</td>\n",
              "      <td>2013</td>\n",
              "      <td>46000</td>\n",
              "      <td>Petrol</td>\n",
              "      <td>Manual</td>\n",
              "      <td>First</td>\n",
              "      <td>18.9 kmpl</td>\n",
              "      <td>998 CC</td>\n",
              "      <td>67.1 bhp</td>\n",
              "      <td>5.0</td>\n",
              "      <td>NaN</td>\n",
              "      <td>2.65</td>\n",
              "    </tr>\n",
              "    <tr>\n",
              "      <th>3091</th>\n",
              "      <td>6018</td>\n",
              "      <td>Chevrolet Beat Diesel</td>\n",
              "      <td>Hyderabad</td>\n",
              "      <td>2011</td>\n",
              "      <td>47000</td>\n",
              "      <td>Diesel</td>\n",
              "      <td>Manual</td>\n",
              "      <td>First</td>\n",
              "      <td>25.44 kmpl</td>\n",
              "      <td>936 CC</td>\n",
              "      <td>57.6 bhp</td>\n",
              "      <td>5.0</td>\n",
              "      <td>NaN</td>\n",
              "      <td>2.50</td>\n",
              "    </tr>\n",
              "  </tbody>\n",
              "</table>\n",
              "</div>"
            ],
            "text/plain": [
              "      index                      Name    Location  Year  Kilometers_Driven  \\\n",
              "3087   6013     Honda Amaze VX i-DTEC  Coimbatore  2015              70602   \n",
              "3088   6014          Maruti Swift VDI       Delhi  2014              27365   \n",
              "3089   6015  Hyundai Xcent 1.1 CRDi S      Jaipur  2015             100000   \n",
              "3090   6017        Maruti Wagon R VXI     Kolkata  2013              46000   \n",
              "3091   6018     Chevrolet Beat Diesel   Hyderabad  2011              47000   \n",
              "\n",
              "     Fuel_Type Transmission Owner_Type     Mileage   Engine     Power  Seats  \\\n",
              "3087    Diesel       Manual      First   25.8 kmpl  1498 CC  98.6 bhp    5.0   \n",
              "3088    Diesel       Manual      First   28.4 kmpl  1248 CC    74 bhp    5.0   \n",
              "3089    Diesel       Manual      First   24.4 kmpl  1120 CC    71 bhp    5.0   \n",
              "3090    Petrol       Manual      First   18.9 kmpl   998 CC  67.1 bhp    5.0   \n",
              "3091    Diesel       Manual      First  25.44 kmpl   936 CC  57.6 bhp    5.0   \n",
              "\n",
              "      New_Price  Price  \n",
              "3087        NaN   4.83  \n",
              "3088  7.88 Lakh   4.75  \n",
              "3089        NaN   4.00  \n",
              "3090        NaN   2.65  \n",
              "3091        NaN   2.50  "
            ]
          },
          "execution_count": 11,
          "metadata": {},
          "output_type": "execute_result"
        }
      ],
      "source": [
        "cars_df[-5:]"
      ]
    },
    {
      "cell_type": "code",
      "execution_count": null,
      "metadata": {
        "id": "TRKeEbo-bK_b",
        "outputId": "a398e03e-913a-4d96-cfc4-93923f239694"
      },
      "outputs": [
        {
          "data": {
            "text/plain": [
              "0                      Honda Jazz V\n",
              "1                 Maruti Ertiga VDI\n",
              "2            Nissan Micra Diesel XV\n",
              "3    Tata Indica Vista Quadrajet LS\n",
              "4             Maruti Swift VDI BSIV\n",
              "Name: Name, dtype: object"
            ]
          },
          "execution_count": 12,
          "metadata": {},
          "output_type": "execute_result"
        }
      ],
      "source": [
        "cars_df['Name'][0:5]"
      ]
    },
    {
      "cell_type": "code",
      "execution_count": null,
      "metadata": {
        "id": "z9NoAQgxbK_b",
        "outputId": "2f5794f4-a88a-453b-a06e-0b0c1702ba68"
      },
      "outputs": [
        {
          "data": {
            "text/html": [
              "<div>\n",
              "<style scoped>\n",
              "    .dataframe tbody tr th:only-of-type {\n",
              "        vertical-align: middle;\n",
              "    }\n",
              "\n",
              "    .dataframe tbody tr th {\n",
              "        vertical-align: top;\n",
              "    }\n",
              "\n",
              "    .dataframe thead th {\n",
              "        text-align: right;\n",
              "    }\n",
              "</style>\n",
              "<table border=\"1\" class=\"dataframe\">\n",
              "  <thead>\n",
              "    <tr style=\"text-align: right;\">\n",
              "      <th></th>\n",
              "      <th>Name</th>\n",
              "      <th>Price</th>\n",
              "    </tr>\n",
              "  </thead>\n",
              "  <tbody>\n",
              "    <tr>\n",
              "      <th>0</th>\n",
              "      <td>Honda Jazz V</td>\n",
              "      <td>4.50</td>\n",
              "    </tr>\n",
              "    <tr>\n",
              "      <th>1</th>\n",
              "      <td>Maruti Ertiga VDI</td>\n",
              "      <td>6.00</td>\n",
              "    </tr>\n",
              "    <tr>\n",
              "      <th>2</th>\n",
              "      <td>Nissan Micra Diesel XV</td>\n",
              "      <td>3.50</td>\n",
              "    </tr>\n",
              "    <tr>\n",
              "      <th>3</th>\n",
              "      <td>Tata Indica Vista Quadrajet LS</td>\n",
              "      <td>1.95</td>\n",
              "    </tr>\n",
              "    <tr>\n",
              "      <th>4</th>\n",
              "      <td>Maruti Swift VDI BSIV</td>\n",
              "      <td>5.60</td>\n",
              "    </tr>\n",
              "  </tbody>\n",
              "</table>\n",
              "</div>"
            ],
            "text/plain": [
              "                             Name  Price\n",
              "0                    Honda Jazz V   4.50\n",
              "1               Maruti Ertiga VDI   6.00\n",
              "2          Nissan Micra Diesel XV   3.50\n",
              "3  Tata Indica Vista Quadrajet LS   1.95\n",
              "4           Maruti Swift VDI BSIV   5.60"
            ]
          },
          "execution_count": 13,
          "metadata": {},
          "output_type": "execute_result"
        }
      ],
      "source": [
        "cars_df[['Name', 'Price']][0:5]"
      ]
    },
    {
      "cell_type": "markdown",
      "metadata": {
        "id": "YuTkNaIjbK_b"
      },
      "source": [
        "## Sampling Records"
      ]
    },
    {
      "cell_type": "code",
      "execution_count": null,
      "metadata": {
        "scrolled": true,
        "id": "b8OePbLxbK_b",
        "outputId": "aafe21bf-894e-4fdd-e215-cc331b8d0e4f"
      },
      "outputs": [
        {
          "data": {
            "text/html": [
              "<div>\n",
              "<style scoped>\n",
              "    .dataframe tbody tr th:only-of-type {\n",
              "        vertical-align: middle;\n",
              "    }\n",
              "\n",
              "    .dataframe tbody tr th {\n",
              "        vertical-align: top;\n",
              "    }\n",
              "\n",
              "    .dataframe thead th {\n",
              "        text-align: right;\n",
              "    }\n",
              "</style>\n",
              "<table border=\"1\" class=\"dataframe\">\n",
              "  <thead>\n",
              "    <tr style=\"text-align: right;\">\n",
              "      <th></th>\n",
              "      <th>index</th>\n",
              "      <th>Name</th>\n",
              "      <th>Location</th>\n",
              "      <th>Year</th>\n",
              "      <th>Kilometers_Driven</th>\n",
              "      <th>Fuel_Type</th>\n",
              "      <th>Transmission</th>\n",
              "      <th>Owner_Type</th>\n",
              "      <th>Mileage</th>\n",
              "      <th>Engine</th>\n",
              "      <th>Power</th>\n",
              "      <th>Seats</th>\n",
              "      <th>New_Price</th>\n",
              "      <th>Price</th>\n",
              "    </tr>\n",
              "  </thead>\n",
              "  <tbody>\n",
              "    <tr>\n",
              "      <th>0</th>\n",
              "      <td>2</td>\n",
              "      <td>Honda Jazz V</td>\n",
              "      <td>Chennai</td>\n",
              "      <td>2011</td>\n",
              "      <td>46000</td>\n",
              "      <td>Petrol</td>\n",
              "      <td>Manual</td>\n",
              "      <td>First</td>\n",
              "      <td>18.2 kmpl</td>\n",
              "      <td>1199 CC</td>\n",
              "      <td>88.7 bhp</td>\n",
              "      <td>5.0</td>\n",
              "      <td>8.61 Lakh</td>\n",
              "      <td>4.50</td>\n",
              "    </tr>\n",
              "    <tr>\n",
              "      <th>1</th>\n",
              "      <td>3</td>\n",
              "      <td>Maruti Ertiga VDI</td>\n",
              "      <td>Chennai</td>\n",
              "      <td>2012</td>\n",
              "      <td>87000</td>\n",
              "      <td>Diesel</td>\n",
              "      <td>Manual</td>\n",
              "      <td>First</td>\n",
              "      <td>20.77 kmpl</td>\n",
              "      <td>1248 CC</td>\n",
              "      <td>88.76 bhp</td>\n",
              "      <td>7.0</td>\n",
              "      <td>NaN</td>\n",
              "      <td>6.00</td>\n",
              "    </tr>\n",
              "    <tr>\n",
              "      <th>2</th>\n",
              "      <td>6</td>\n",
              "      <td>Nissan Micra Diesel XV</td>\n",
              "      <td>Jaipur</td>\n",
              "      <td>2013</td>\n",
              "      <td>86999</td>\n",
              "      <td>Diesel</td>\n",
              "      <td>Manual</td>\n",
              "      <td>First</td>\n",
              "      <td>23.08 kmpl</td>\n",
              "      <td>1461 CC</td>\n",
              "      <td>63.1 bhp</td>\n",
              "      <td>5.0</td>\n",
              "      <td>NaN</td>\n",
              "      <td>3.50</td>\n",
              "    </tr>\n",
              "    <tr>\n",
              "      <th>3</th>\n",
              "      <td>9</td>\n",
              "      <td>Tata Indica Vista Quadrajet LS</td>\n",
              "      <td>Chennai</td>\n",
              "      <td>2012</td>\n",
              "      <td>65932</td>\n",
              "      <td>Diesel</td>\n",
              "      <td>Manual</td>\n",
              "      <td>Second</td>\n",
              "      <td>22.3 kmpl</td>\n",
              "      <td>1248 CC</td>\n",
              "      <td>74 bhp</td>\n",
              "      <td>5.0</td>\n",
              "      <td>NaN</td>\n",
              "      <td>1.95</td>\n",
              "    </tr>\n",
              "    <tr>\n",
              "      <th>4</th>\n",
              "      <td>12</td>\n",
              "      <td>Maruti Swift VDI BSIV</td>\n",
              "      <td>Jaipur</td>\n",
              "      <td>2015</td>\n",
              "      <td>64424</td>\n",
              "      <td>Diesel</td>\n",
              "      <td>Manual</td>\n",
              "      <td>First</td>\n",
              "      <td>25.2 kmpl</td>\n",
              "      <td>1248 CC</td>\n",
              "      <td>74 bhp</td>\n",
              "      <td>5.0</td>\n",
              "      <td>NaN</td>\n",
              "      <td>5.60</td>\n",
              "    </tr>\n",
              "  </tbody>\n",
              "</table>\n",
              "</div>"
            ],
            "text/plain": [
              "   index                            Name Location  Year  Kilometers_Driven  \\\n",
              "0      2                    Honda Jazz V  Chennai  2011              46000   \n",
              "1      3               Maruti Ertiga VDI  Chennai  2012              87000   \n",
              "2      6          Nissan Micra Diesel XV   Jaipur  2013              86999   \n",
              "3      9  Tata Indica Vista Quadrajet LS  Chennai  2012              65932   \n",
              "4     12           Maruti Swift VDI BSIV   Jaipur  2015              64424   \n",
              "\n",
              "  Fuel_Type Transmission Owner_Type     Mileage   Engine      Power  Seats  \\\n",
              "0    Petrol       Manual      First   18.2 kmpl  1199 CC   88.7 bhp    5.0   \n",
              "1    Diesel       Manual      First  20.77 kmpl  1248 CC  88.76 bhp    7.0   \n",
              "2    Diesel       Manual      First  23.08 kmpl  1461 CC   63.1 bhp    5.0   \n",
              "3    Diesel       Manual     Second   22.3 kmpl  1248 CC     74 bhp    5.0   \n",
              "4    Diesel       Manual      First   25.2 kmpl  1248 CC     74 bhp    5.0   \n",
              "\n",
              "   New_Price  Price  \n",
              "0  8.61 Lakh   4.50  \n",
              "1        NaN   6.00  \n",
              "2        NaN   3.50  \n",
              "3        NaN   1.95  \n",
              "4        NaN   5.60  "
            ]
          },
          "execution_count": 14,
          "metadata": {},
          "output_type": "execute_result"
        }
      ],
      "source": [
        "cars_df.head(5)"
      ]
    },
    {
      "cell_type": "code",
      "execution_count": null,
      "metadata": {
        "id": "SirIsBfYbK_b",
        "outputId": "321cea38-9316-4a3c-99bc-c69aa41d2a39"
      },
      "outputs": [
        {
          "data": {
            "text/plain": [
              "(3092, 14)"
            ]
          },
          "execution_count": 15,
          "metadata": {},
          "output_type": "execute_result"
        }
      ],
      "source": [
        "cars_df.shape"
      ]
    },
    {
      "cell_type": "markdown",
      "metadata": {
        "id": "NElHG1HabK_b"
      },
      "source": [
        "## Finding Insights"
      ]
    },
    {
      "cell_type": "markdown",
      "metadata": {
        "id": "YGrCuPaAbK_b"
      },
      "source": [
        "### What are different transmission types and how many cars are available from each transmission type (in percentages)?"
      ]
    },
    {
      "cell_type": "code",
      "execution_count": null,
      "metadata": {
        "id": "DNfRJHLDbK_b",
        "outputId": "fa40905a-e986-4e34-a24b-0668e2e980a5"
      },
      "outputs": [
        {
          "data": {
            "text/plain": [
              "array(['Manual', 'Automatic'], dtype=object)"
            ]
          },
          "execution_count": 16,
          "metadata": {},
          "output_type": "execute_result"
        }
      ],
      "source": [
        "cars_df.Transmission.unique()"
      ]
    },
    {
      "cell_type": "code",
      "execution_count": null,
      "metadata": {
        "id": "0D-6iyWNbK_b",
        "outputId": "fcf1ba4d-e74c-4b13-b8a7-a6af25ca16fc"
      },
      "outputs": [
        {
          "data": {
            "text/plain": [
              "Manual       2872\n",
              "Automatic     220\n",
              "Name: Transmission, dtype: int64"
            ]
          },
          "execution_count": 17,
          "metadata": {},
          "output_type": "execute_result"
        }
      ],
      "source": [
        "#cars_df['Transmission'].value_counts()\n",
        "cars_df.Transmission.value_counts()"
      ]
    },
    {
      "cell_type": "code",
      "execution_count": null,
      "metadata": {
        "id": "aKljkb9HbK_b",
        "outputId": "8299b0c5-58f2-4fe6-d201-854671c39976"
      },
      "outputs": [
        {
          "data": {
            "text/plain": [
              "Manual       92.884864\n",
              "Automatic     7.115136\n",
              "Name: Transmission, dtype: float64"
            ]
          },
          "execution_count": 18,
          "metadata": {},
          "output_type": "execute_result"
        }
      ],
      "source": [
        "cars_df.Transmission.value_counts(normalize=True)*100"
      ]
    },
    {
      "cell_type": "markdown",
      "metadata": {
        "id": "Q9pfBJZIbK_b"
      },
      "source": [
        "### 1. Participants Exercises:\n",
        "\n",
        "- What are different owner types?\n",
        "- What percentage of cars are available from each owner type for resale?"
      ]
    },
    {
      "cell_type": "code",
      "execution_count": null,
      "metadata": {
        "id": "fSfBuNn4bK_c"
      },
      "outputs": [],
      "source": [
        "#TODO by participants\n"
      ]
    },
    {
      "cell_type": "markdown",
      "metadata": {
        "id": "vuuGJgLzbK_c"
      },
      "source": [
        "### Filtering Records\n",
        "\n",
        "- Find out how many cars from 2017 editions are on sale?"
      ]
    },
    {
      "cell_type": "code",
      "execution_count": null,
      "metadata": {
        "id": "LzoEF5fgbK_c"
      },
      "outputs": [],
      "source": [
        "cars_2017_df = cars_df[cars_df.Year == 2017]"
      ]
    },
    {
      "cell_type": "code",
      "execution_count": null,
      "metadata": {
        "id": "hpSiKEnkbK_c",
        "outputId": "8212c974-ca57-47d7-bf31-c1b68d5cfee1"
      },
      "outputs": [
        {
          "data": {
            "text/plain": [
              "(329, 14)"
            ]
          },
          "execution_count": 21,
          "metadata": {},
          "output_type": "execute_result"
        }
      ],
      "source": [
        "cars_2017_df.shape"
      ]
    },
    {
      "cell_type": "markdown",
      "metadata": {
        "id": "Ak-Ys9FSbK_c"
      },
      "source": [
        "### Top 10 most expensive cars by sold price"
      ]
    },
    {
      "cell_type": "code",
      "execution_count": null,
      "metadata": {
        "scrolled": false,
        "id": "G45vSNjWbK_c",
        "outputId": "137584bc-84b7-419e-8a0a-564a3ae3c534"
      },
      "outputs": [
        {
          "data": {
            "text/html": [
              "<div>\n",
              "<style scoped>\n",
              "    .dataframe tbody tr th:only-of-type {\n",
              "        vertical-align: middle;\n",
              "    }\n",
              "\n",
              "    .dataframe tbody tr th {\n",
              "        vertical-align: top;\n",
              "    }\n",
              "\n",
              "    .dataframe thead th {\n",
              "        text-align: right;\n",
              "    }\n",
              "</style>\n",
              "<table border=\"1\" class=\"dataframe\">\n",
              "  <thead>\n",
              "    <tr style=\"text-align: right;\">\n",
              "      <th></th>\n",
              "      <th>index</th>\n",
              "      <th>Name</th>\n",
              "      <th>Location</th>\n",
              "      <th>Year</th>\n",
              "      <th>Kilometers_Driven</th>\n",
              "      <th>Fuel_Type</th>\n",
              "      <th>Transmission</th>\n",
              "      <th>Owner_Type</th>\n",
              "      <th>Mileage</th>\n",
              "      <th>Engine</th>\n",
              "      <th>Power</th>\n",
              "      <th>Seats</th>\n",
              "      <th>New_Price</th>\n",
              "      <th>Price</th>\n",
              "    </tr>\n",
              "  </thead>\n",
              "  <tbody>\n",
              "    <tr>\n",
              "      <th>1134</th>\n",
              "      <td>2251</td>\n",
              "      <td>Honda City i-DTEC ZX</td>\n",
              "      <td>Hyderabad</td>\n",
              "      <td>2017</td>\n",
              "      <td>46000</td>\n",
              "      <td>Diesel</td>\n",
              "      <td>Manual</td>\n",
              "      <td>First</td>\n",
              "      <td>25.6 kmpl</td>\n",
              "      <td>1498 CC</td>\n",
              "      <td>98.6 bhp</td>\n",
              "      <td>5.0</td>\n",
              "      <td>16.95 Lakh</td>\n",
              "      <td>12.9</td>\n",
              "    </tr>\n",
              "    <tr>\n",
              "      <th>1283</th>\n",
              "      <td>2570</td>\n",
              "      <td>Toyota Innova 2.5 G (Diesel) 8 Seater</td>\n",
              "      <td>Hyderabad</td>\n",
              "      <td>2013</td>\n",
              "      <td>114708</td>\n",
              "      <td>Diesel</td>\n",
              "      <td>Manual</td>\n",
              "      <td>First</td>\n",
              "      <td>12.99 kmpl</td>\n",
              "      <td>2494 CC</td>\n",
              "      <td>100 bhp</td>\n",
              "      <td>8.0</td>\n",
              "      <td>NaN</td>\n",
              "      <td>12.6</td>\n",
              "    </tr>\n",
              "    <tr>\n",
              "      <th>2673</th>\n",
              "      <td>5213</td>\n",
              "      <td>Toyota Innova 2.5 VX (Diesel) 8 Seater BS IV</td>\n",
              "      <td>Pune</td>\n",
              "      <td>2015</td>\n",
              "      <td>77000</td>\n",
              "      <td>Diesel</td>\n",
              "      <td>Manual</td>\n",
              "      <td>First</td>\n",
              "      <td>12.99 kmpl</td>\n",
              "      <td>2494 CC</td>\n",
              "      <td>100 bhp</td>\n",
              "      <td>8.0</td>\n",
              "      <td>NaN</td>\n",
              "      <td>12.5</td>\n",
              "    </tr>\n",
              "    <tr>\n",
              "      <th>2538</th>\n",
              "      <td>4966</td>\n",
              "      <td>Toyota Innova 2.5 VX (Diesel) 8 Seater</td>\n",
              "      <td>Mumbai</td>\n",
              "      <td>2014</td>\n",
              "      <td>87143</td>\n",
              "      <td>Diesel</td>\n",
              "      <td>Manual</td>\n",
              "      <td>First</td>\n",
              "      <td>12.99 kmpl</td>\n",
              "      <td>2494 CC</td>\n",
              "      <td>100 bhp</td>\n",
              "      <td>8.0</td>\n",
              "      <td>NaN</td>\n",
              "      <td>12.5</td>\n",
              "    </tr>\n",
              "    <tr>\n",
              "      <th>1565</th>\n",
              "      <td>3076</td>\n",
              "      <td>Toyota Innova 2.5 G (Diesel) 8 Seater</td>\n",
              "      <td>Hyderabad</td>\n",
              "      <td>2013</td>\n",
              "      <td>92000</td>\n",
              "      <td>Diesel</td>\n",
              "      <td>Manual</td>\n",
              "      <td>First</td>\n",
              "      <td>12.99 kmpl</td>\n",
              "      <td>2494 CC</td>\n",
              "      <td>100 bhp</td>\n",
              "      <td>8.0</td>\n",
              "      <td>NaN</td>\n",
              "      <td>12.5</td>\n",
              "    </tr>\n",
              "  </tbody>\n",
              "</table>\n",
              "</div>"
            ],
            "text/plain": [
              "      index                                          Name   Location  Year  \\\n",
              "1134   2251                          Honda City i-DTEC ZX  Hyderabad  2017   \n",
              "1283   2570         Toyota Innova 2.5 G (Diesel) 8 Seater  Hyderabad  2013   \n",
              "2673   5213  Toyota Innova 2.5 VX (Diesel) 8 Seater BS IV       Pune  2015   \n",
              "2538   4966        Toyota Innova 2.5 VX (Diesel) 8 Seater     Mumbai  2014   \n",
              "1565   3076         Toyota Innova 2.5 G (Diesel) 8 Seater  Hyderabad  2013   \n",
              "\n",
              "      Kilometers_Driven Fuel_Type Transmission Owner_Type     Mileage  \\\n",
              "1134              46000    Diesel       Manual      First   25.6 kmpl   \n",
              "1283             114708    Diesel       Manual      First  12.99 kmpl   \n",
              "2673              77000    Diesel       Manual      First  12.99 kmpl   \n",
              "2538              87143    Diesel       Manual      First  12.99 kmpl   \n",
              "1565              92000    Diesel       Manual      First  12.99 kmpl   \n",
              "\n",
              "       Engine     Power  Seats   New_Price  Price  \n",
              "1134  1498 CC  98.6 bhp    5.0  16.95 Lakh   12.9  \n",
              "1283  2494 CC   100 bhp    8.0         NaN   12.6  \n",
              "2673  2494 CC   100 bhp    8.0         NaN   12.5  \n",
              "2538  2494 CC   100 bhp    8.0         NaN   12.5  \n",
              "1565  2494 CC   100 bhp    8.0         NaN   12.5  "
            ]
          },
          "execution_count": 22,
          "metadata": {},
          "output_type": "execute_result"
        }
      ],
      "source": [
        "cars_df.sort_values('Price', ascending=False)[0:5]"
      ]
    },
    {
      "cell_type": "markdown",
      "metadata": {
        "id": "QXZDSVOUbK_c"
      },
      "source": [
        "### 2. Participants Exercises:\n",
        "\n",
        "- Find out top 10 least expensive cars sold in Bangalore and print only their names and sold price\n",
        "\n",
        "    - Apply filter\n",
        "    - Sort values\n",
        "    - Slice by column names\n",
        "    - Print only top 10 rows\n"
      ]
    },
    {
      "cell_type": "markdown",
      "metadata": {
        "id": "lWipVyhpbK_c"
      },
      "source": [
        "### Distribution of car sale price\n",
        "\n",
        "A distribution in statistics is a function that shows the possible values for a variable and how often they occur.\n",
        "\n",
        "- How many cars are sold at different price ranges? For example: cars sold in the price range of 1L - 2L, 2L - 3L etc.?"
      ]
    },
    {
      "cell_type": "markdown",
      "metadata": {
        "id": "kj1yVca7bK_c"
      },
      "source": [
        "#### Histogram for plotting Continuous Variables (Price)"
      ]
    },
    {
      "cell_type": "code",
      "execution_count": null,
      "metadata": {
        "id": "vx9vONKWbK_c"
      },
      "outputs": [],
      "source": [
        "import matplotlib.pyplot as plt\n",
        "import seaborn as sn\n",
        "\n",
        "sn.set_style(\"whitegrid\")\n",
        "sn.set_context(\"paper\")\n",
        "sn.color_palette(\"Set2\");"
      ]
    },
    {
      "cell_type": "code",
      "execution_count": null,
      "metadata": {
        "scrolled": true,
        "id": "YuD54jT7bK_g",
        "outputId": "bd327728-bf4d-4b4b-a808-59d05314e4b9"
      },
      "outputs": [
        {
          "data": {
            "image/png": "[encoded data removed]",
            "text/plain": [
              "<Figure size 1080x360 with 1 Axes>"
            ]
          },
          "metadata": {
            "needs_background": "light"
          },
          "output_type": "display_data"
        }
      ],
      "source": [
        "plt.figure(figsize=(15,5))\n",
        "plt.hist(cars_df['Price']);\n",
        "plt.xlabel(\"Price\")\n",
        "plt.ylabel(\"Frequency\")\n",
        "plt.title(\"Histogram for Price\");"
      ]
    },
    {
      "cell_type": "markdown",
      "metadata": {
        "id": "Dj2Y6OhfbK_g"
      },
      "source": [
        "#### Setting our own bins for the histogram"
      ]
    },
    {
      "cell_type": "code",
      "execution_count": null,
      "metadata": {
        "id": "PpjwLaiObK_g",
        "outputId": "f4222b53-c92d-43dd-fd15-7bd0cfb03c13"
      },
      "outputs": [
        {
          "data": {
            "image/png": "[encoded data removed]",
            "text/plain": [
              "<Figure size 1080x360 with 1 Axes>"
            ]
          },
          "metadata": {
            "needs_background": "light"
          },
          "output_type": "display_data"
        }
      ],
      "source": [
        "plt.figure(figsize=(15,5))\n",
        "hist_data = plt.hist(cars_df['Price'], bins=list(range(0, 15, 1)));\n",
        "plt.xticks(range(0, 15, 1))\n",
        "plt.xlabel(\"Price\")\n",
        "plt.ylabel(\"Frequency\")\n",
        "plt.title(\"Histogram for Price\");\n",
        "plt.savefig(\"price.png\")"
      ]
    },
    {
      "cell_type": "code",
      "execution_count": null,
      "metadata": {
        "id": "OLEaChXAbK_g",
        "outputId": "a3bddf7b-99dc-4c51-e7e1-92f5775d1cd6"
      },
      "outputs": [
        {
          "data": {
            "image/png": "[encoded data removed]",
            "text/plain": [
              "<Figure size 432x288 with 1 Axes>"
            ]
          },
          "metadata": {
            "needs_background": "light"
          },
          "output_type": "display_data"
        }
      ],
      "source": [
        "sn.distplot(cars_df.Price, hist=False);"
      ]
    },
    {
      "cell_type": "code",
      "execution_count": null,
      "metadata": {
        "id": "malQ9C9SbK_g",
        "outputId": "e6dd8e91-89bc-41b3-cc70-ecb40e34c68d"
      },
      "outputs": [
        {
          "data": {
            "text/plain": [
              "(0.44, 12.9)"
            ]
          },
          "execution_count": 27,
          "metadata": {},
          "output_type": "execute_result"
        }
      ],
      "source": [
        "cars_df.Price.min(), cars_df.Price.max()"
      ]
    },
    {
      "cell_type": "markdown",
      "metadata": {
        "id": "lc_xon96bK_g"
      },
      "source": [
        "#### Finding distribution parameters of Price\n",
        "\n",
        "https://www.cuemath.com/data/standard-deviation/"
      ]
    },
    {
      "cell_type": "code",
      "execution_count": null,
      "metadata": {
        "id": "Q0rXv4NPbK_g",
        "outputId": "84e479bd-519c-46cd-da73-7cb8c53af754"
      },
      "outputs": [
        {
          "data": {
            "text/plain": [
              "4.4357826649417795"
            ]
          },
          "execution_count": 28,
          "metadata": {},
          "output_type": "execute_result"
        }
      ],
      "source": [
        "cars_df['Price'].mean()"
      ]
    },
    {
      "cell_type": "code",
      "execution_count": null,
      "metadata": {
        "id": "KNbGnKfEbK_g",
        "outputId": "cd3eafb5-1a33-4e4e-8a79-18d6e8e2b401"
      },
      "outputs": [
        {
          "data": {
            "text/plain": [
              "2.1169815474381815"
            ]
          },
          "execution_count": 29,
          "metadata": {},
          "output_type": "execute_result"
        }
      ],
      "source": [
        "cars_df['Price'].std()"
      ]
    },
    {
      "cell_type": "markdown",
      "metadata": {
        "id": "OWlbCa5PbK_g"
      },
      "source": [
        "#### 95% of the cars were sold in which price range?"
      ]
    },
    {
      "cell_type": "code",
      "execution_count": null,
      "metadata": {
        "id": "oeEpcUoObK_g"
      },
      "outputs": [],
      "source": [
        "from scipy import stats"
      ]
    },
    {
      "cell_type": "code",
      "execution_count": null,
      "metadata": {
        "id": "ptJZfGx6bK_h",
        "outputId": "ec8da4f7-d31c-40f3-fbdf-79fd2c71873e"
      },
      "outputs": [
        {
          "data": {
            "text/plain": [
              "(0.2865750760270718, 8.584990253856487)"
            ]
          },
          "execution_count": 31,
          "metadata": {},
          "output_type": "execute_result"
        }
      ],
      "source": [
        "stats.norm.interval(0.95,\n",
        "                    cars_df['Price'].mean(),\n",
        "                    cars_df['Price'].std())"
      ]
    },
    {
      "cell_type": "code",
      "execution_count": null,
      "metadata": {
        "id": "8BRbvsjdbK_h",
        "outputId": "72c695f1-ff63-409f-a643-ef9902e1a6d9"
      },
      "outputs": [
        {
          "data": {
            "text/plain": [
              "(-1.8468637606392466, 10.718429090522783)"
            ]
          },
          "execution_count": 32,
          "metadata": {},
          "output_type": "execute_result"
        }
      ],
      "source": [
        "stats.norm.interval(0.997,\n",
        "                    cars_df['Price'].mean(),\n",
        "                    cars_df['Price'].std())"
      ]
    },
    {
      "cell_type": "code",
      "execution_count": null,
      "metadata": {
        "id": "wytvZkX6bK_h",
        "outputId": "6263ac98-ba75-4907-d929-2f600e7384f9"
      },
      "outputs": [
        {
          "data": {
            "text/plain": [
              "23"
            ]
          },
          "execution_count": 33,
          "metadata": {},
          "output_type": "execute_result"
        }
      ],
      "source": [
        "len(cars_df[cars_df.Price > 10.71])"
      ]
    },
    {
      "cell_type": "markdown",
      "metadata": {
        "id": "2xvHwwtYbK_h"
      },
      "source": [
        "### 4. Participants Exercise\n",
        "\n",
        "- Find out the mean and standard deviation of mileage of the cars sold?\n",
        "- Any outliers in terms of mileage?"
      ]
    },
    {
      "cell_type": "markdown",
      "metadata": {
        "id": "TH4lF5pwbK_h"
      },
      "source": [
        "## Outliers\n",
        "\n",
        "- In statistics, an outlier is a data point that differs significantly from other observations.\n",
        "- An outlier may be due to variability in the measurement or it may indicate experimental error; the latter are sometimes excluded from the data set.\n",
        "- An outlier can cause serious problems in statistical analyses.\n",
        "\n",
        "Source: https://en.wikipedia.org/wiki/Outlier\n",
        "\n",
        "Using 3 standard deviation approach."
      ]
    },
    {
      "cell_type": "markdown",
      "metadata": {
        "id": "t7TsaDwRbK_h"
      },
      "source": [
        "### Using box plot\n",
        "\n",
        "- A boxplot is a standardized way of displaying the distribution of data based on a five number summary (“minimum”, first quartile (Q1), median, third quartile (Q3), and “maximum”).\n",
        "- It can tell you about your outliers and what their values are. It can also tell you if your data is symmetrical, how tightly your data is grouped, and if and how your data is skewed.\n",
        "\n",
        "- The minimum or lowest value of the dataset\n",
        "- The first quartile Q1, which represents a quarter of the way through the list of all data\n",
        "- The median of the data set, which represents the midpoint of the whole list of data\n",
        "- The third quartile Q3, which represents three-quarters of the way through the list of all data\n",
        "- The maximum or highest value of the data set.\n",
        "\n",
        "Source: https://towardsdatascience.com/understanding-boxplots-5e2df7bcbd51\n",
        "\n",
        "<img src=\"https://github.com/manaranjanp/IIMBClasses/blob/main/EDA/box.png?raw=1\" alt=\"Nowmal Distribution\" width=\"600\"/>"
      ]
    },
    {
      "cell_type": "code",
      "execution_count": null,
      "metadata": {
        "id": "UGJLMyz_bK_h",
        "outputId": "3a088e9b-7c0f-403f-f27c-3f0980366d12"
      },
      "outputs": [
        {
          "data": {
            "image/png": "[encoded data removed]",
            "text/plain": [
              "<Figure size 432x288 with 1 Axes>"
            ]
          },
          "metadata": {
            "needs_background": "light"
          },
          "output_type": "display_data"
        }
      ],
      "source": [
        "box_info = plt.boxplot(cars_df['Price']);"
      ]
    },
    {
      "cell_type": "code",
      "execution_count": null,
      "metadata": {
        "id": "SRvGzfSUbK_h",
        "outputId": "7d3f191f-f0f0-491e-ac92-14ec630cb489"
      },
      "outputs": [
        {
          "data": {
            "image/png": "[encoded data removed]",
            "text/plain": [
              "<Figure size 1080x432 with 1 Axes>"
            ]
          },
          "metadata": {
            "needs_background": "light"
          },
          "output_type": "display_data"
        }
      ],
      "source": [
        "plt.figure(figsize=(15,6))\n",
        "boxp = sn.boxplot(cars_df['Price']);"
      ]
    },
    {
      "cell_type": "code",
      "execution_count": null,
      "metadata": {
        "id": "8DOuCt6bbK_h",
        "outputId": "23f5a846-bf1f-46af-f45c-335e6f96da4d"
      },
      "outputs": [
        {
          "data": {
            "text/plain": [
              "4.15"
            ]
          },
          "execution_count": 36,
          "metadata": {},
          "output_type": "execute_result"
        }
      ],
      "source": [
        "cars_df['Price'].median()"
      ]
    },
    {
      "cell_type": "code",
      "execution_count": null,
      "metadata": {
        "id": "PhucXmuQbK_i"
      },
      "outputs": [],
      "source": [
        "from scipy import stats"
      ]
    },
    {
      "cell_type": "code",
      "execution_count": null,
      "metadata": {
        "id": "VUg5wPNxbK_i",
        "outputId": "f49f9de0-1b95-4955-808e-b0f4950069f1"
      },
      "outputs": [
        {
          "data": {
            "text/plain": [
              "2.9825000000000004"
            ]
          },
          "execution_count": 38,
          "metadata": {},
          "output_type": "execute_result"
        }
      ],
      "source": [
        "iqr = stats.iqr(cars_df['Price'])\n",
        "iqr"
      ]
    },
    {
      "cell_type": "code",
      "execution_count": null,
      "metadata": {
        "id": "dmExZc2kbK_i",
        "outputId": "4ea2a576-b668-4e2b-86e3-6ad36bd5a524"
      },
      "outputs": [
        {
          "data": {
            "text/plain": [
              "count    3092.000000\n",
              "mean        4.435783\n",
              "std         2.116982\n",
              "min         0.440000\n",
              "25%         2.850000\n",
              "50%         4.150000\n",
              "75%         5.832500\n",
              "max        12.900000\n",
              "Name: Price, dtype: float64"
            ]
          },
          "execution_count": 39,
          "metadata": {},
          "output_type": "execute_result"
        }
      ],
      "source": [
        "cars_df['Price'].describe()"
      ]
    },
    {
      "cell_type": "code",
      "execution_count": null,
      "metadata": {
        "id": "gZoBE8XMbK_i"
      },
      "outputs": [],
      "source": [
        "min_price = cars_df['Price'].describe()['25%'] - 1.5 * iqr\n",
        "max_price = cars_df['Price'].describe()['75%'] + 1.5 * iqr"
      ]
    },
    {
      "cell_type": "code",
      "execution_count": null,
      "metadata": {
        "id": "HB3055IwbK_i",
        "outputId": "6d55161d-be8c-409e-b477-429b940b2f69"
      },
      "outputs": [
        {
          "data": {
            "text/plain": [
              "(-1.6237500000000007, 10.306250000000002)"
            ]
          },
          "execution_count": 41,
          "metadata": {},
          "output_type": "execute_result"
        }
      ],
      "source": [
        "min_price, max_price"
      ]
    },
    {
      "cell_type": "code",
      "execution_count": null,
      "metadata": {
        "id": "1oAnmtq9bK_i",
        "outputId": "79f3db3a-5a64-4128-8750-9b4e6069a283"
      },
      "outputs": [
        {
          "data": {
            "text/plain": [
              "(28,)"
            ]
          },
          "execution_count": 42,
          "metadata": {},
          "output_type": "execute_result"
        }
      ],
      "source": [
        "cars_df[cars_df.Price > 10.30]['Price'].shape"
      ]
    },
    {
      "cell_type": "code",
      "execution_count": null,
      "metadata": {
        "id": "s5eJ7h3-bK_i"
      },
      "outputs": [],
      "source": [
        "outliers_df = cars_df[cars_df.Price > 10.30]"
      ]
    },
    {
      "cell_type": "code",
      "execution_count": null,
      "metadata": {
        "id": "nyuwBpP6bK_i",
        "outputId": "87a62a82-118c-4e11-d3bc-08a51b4df080"
      },
      "outputs": [
        {
          "data": {
            "text/plain": [
              "(28, 14)"
            ]
          },
          "execution_count": 44,
          "metadata": {},
          "output_type": "execute_result"
        }
      ],
      "source": [
        "outliers_df.shape"
      ]
    },
    {
      "cell_type": "code",
      "execution_count": null,
      "metadata": {
        "id": "wU49t-k-bK_i"
      },
      "outputs": [],
      "source": [
        "#sn.distplot(cars_df[cars_df.Price < 10.30]['Price']);"
      ]
    },
    {
      "cell_type": "markdown",
      "metadata": {
        "id": "Bo6cuD_JbK_i"
      },
      "source": [
        "### 5. Participants Exercise:\n",
        "\n",
        "- Find the outliers for Kilometers driven using box plot\n",
        "- What are the min and max values?\n",
        "- How many outliers are present?"
      ]
    },
    {
      "cell_type": "code",
      "execution_count": null,
      "metadata": {
        "id": "-1H75fATbK_i"
      },
      "outputs": [],
      "source": [
        "#TODO by participants\n"
      ]
    },
    {
      "cell_type": "markdown",
      "metadata": {
        "id": "_ZNwf3JWbK_i"
      },
      "source": [
        "### Creating new factors: Age of car\n",
        "\n",
        "This is not the actual age of the car.\n",
        "\n",
        "We are substracting the edition of the car from the year 2020."
      ]
    },
    {
      "cell_type": "code",
      "execution_count": null,
      "metadata": {
        "id": "-pvQozZ-bK_i"
      },
      "outputs": [],
      "source": [
        "cars_df['age'] = 2020 - cars_df['Year']"
      ]
    },
    {
      "cell_type": "code",
      "execution_count": null,
      "metadata": {
        "id": "KU_rOp-sbK_i",
        "outputId": "e27de9aa-ad74-499a-9f4d-2acf10cd98e7"
      },
      "outputs": [
        {
          "data": {
            "image/png": "[encoded data removed]",
            "text/plain": [
              "<Figure size 432x288 with 1 Axes>"
            ]
          },
          "metadata": {
            "needs_background": "light"
          },
          "output_type": "display_data"
        }
      ],
      "source": [
        "plt.hist(cars_df.age);"
      ]
    },
    {
      "cell_type": "markdown",
      "metadata": {
        "id": "le2qNmvRbK_i"
      },
      "source": [
        "### Different makes and models\n",
        "\n",
        "We are assuming the first token to be the make and the second token to be the model."
      ]
    },
    {
      "cell_type": "code",
      "execution_count": null,
      "metadata": {
        "id": "Z-GSa_fcbK_j"
      },
      "outputs": [],
      "source": [
        "cars_df['make'] = cars_df['Name'].map( lambda x: x.lower().split()[0] )"
      ]
    },
    {
      "cell_type": "code",
      "execution_count": null,
      "metadata": {
        "id": "Nvv4PnmLbK_j",
        "outputId": "04e98eb8-2c4f-47b9-a37e-5868112951f2"
      },
      "outputs": [
        {
          "data": {
            "text/plain": [
              "maruti        1082\n",
              "hyundai        739\n",
              "honda          316\n",
              "ford           217\n",
              "volkswagen     151\n",
              "tata           151\n",
              "chevrolet       88\n",
              "renault         84\n",
              "toyota          78\n",
              "nissan          67\n",
              "mahindra        61\n",
              "fiat            21\n",
              "skoda           21\n",
              "datsun          13\n",
              "mitsubishi       2\n",
              "ambassador       1\n",
              "Name: make, dtype: int64"
            ]
          },
          "execution_count": 50,
          "metadata": {},
          "output_type": "execute_result"
        }
      ],
      "source": [
        "cars_df.make.value_counts()"
      ]
    },
    {
      "cell_type": "code",
      "execution_count": null,
      "metadata": {
        "id": "6e1kOq5gbK_j"
      },
      "outputs": [],
      "source": [
        "cars_df['model'] = cars_df['Name'].map( lambda x: x.lower().split()[1] )"
      ]
    },
    {
      "cell_type": "code",
      "execution_count": null,
      "metadata": {
        "scrolled": true,
        "id": "_MS-nPPDbK_j",
        "outputId": "ba880764-9c6b-4bef-96df-691e05d0c931"
      },
      "outputs": [
        {
          "data": {
            "text/plain": [
              "array(['jazz', 'ertiga', 'micra', 'indica', 'swift', 'amaze', 'duster',\n",
              "       's', 'i20', 'alto', 'wrv', 'wagon', 'vitara', 'kuv', 'polo',\n",
              "       'nano', 'xcent', 'grand', 'kwid', 'i10', 'zen', 'figo', 'city',\n",
              "       'creta', 'brio', 'zest', 'ritz', 'ecosport', 'go', 'omni', 'etios',\n",
              "       'eeco', 'ciaz', 'beat', 'eon', 'baleno', 'nuvosport', 'fabia',\n",
              "       'indigo', 'verito', 'accent', 'a-star', 'grande', 'celerio',\n",
              "       'sumo', 'fiesta', 'manza', 'spark', '800', 'enjoy', 'bolero',\n",
              "       's-cross', 'santro', 'innova', 'octavia', 'renault', 'ikon',\n",
              "       'sail', 'quanto', 'terrano', 'aveo', 'esteem', 'br-v', 'ignis',\n",
              "       'sunny', 'dzire', 'linea', 'sx4', 'mobilio', 'qualis', 'redi-go',\n",
              "       'ameo', 'corolla', 'tiago', 'avventura', 'tigor', 'classic',\n",
              "       'xylo', 'verna', 'elite', 'aspire', 'punto', 'tuv', 'bolt',\n",
              "       'evalia', 'scala', 'freestyle', 'logan', 'tavera', 'scorpio',\n",
              "       'pulse', 'getz', 'crosspolo', 'fluence', 'venture', 'platinum',\n",
              "       'thar', 'lancer', 'redi', 'fusion', 'versa', 'wr-v'], dtype=object)"
            ]
          },
          "execution_count": 52,
          "metadata": {},
          "output_type": "execute_result"
        }
      ],
      "source": [
        "cars_df['model'].unique()"
      ]
    },
    {
      "cell_type": "code",
      "execution_count": null,
      "metadata": {
        "id": "2BEcnSd7bK_j",
        "outputId": "4f68a74b-44b9-4420-d896-2d690659c053"
      },
      "outputs": [
        {
          "data": {
            "text/plain": [
              "102"
            ]
          },
          "execution_count": 53,
          "metadata": {},
          "output_type": "execute_result"
        }
      ],
      "source": [
        "len(cars_df['model'].unique())"
      ]
    },
    {
      "cell_type": "markdown",
      "metadata": {
        "id": "yXHJmGhCbK_j"
      },
      "source": [
        "### Find out top 10 selling models"
      ]
    },
    {
      "cell_type": "code",
      "execution_count": null,
      "metadata": {
        "id": "QrQHfwT5bK_j"
      },
      "outputs": [],
      "source": [
        "top_models = cars_df['model'].value_counts().reset_index()"
      ]
    },
    {
      "cell_type": "code",
      "execution_count": null,
      "metadata": {
        "id": "NuyfWEAUbK_j",
        "outputId": "b47a7d0e-fb7a-4758-bdf0-9f10e2644967"
      },
      "outputs": [
        {
          "data": {
            "text/html": [
              "<div>\n",
              "<style scoped>\n",
              "    .dataframe tbody tr th:only-of-type {\n",
              "        vertical-align: middle;\n",
              "    }\n",
              "\n",
              "    .dataframe tbody tr th {\n",
              "        vertical-align: top;\n",
              "    }\n",
              "\n",
              "    .dataframe thead th {\n",
              "        text-align: right;\n",
              "    }\n",
              "</style>\n",
              "<table border=\"1\" class=\"dataframe\">\n",
              "  <thead>\n",
              "    <tr style=\"text-align: right;\">\n",
              "      <th></th>\n",
              "      <th>index</th>\n",
              "      <th>model</th>\n",
              "    </tr>\n",
              "  </thead>\n",
              "  <tbody>\n",
              "    <tr>\n",
              "      <th>0</th>\n",
              "      <td>swift</td>\n",
              "      <td>326</td>\n",
              "    </tr>\n",
              "    <tr>\n",
              "      <th>1</th>\n",
              "      <td>i20</td>\n",
              "      <td>246</td>\n",
              "    </tr>\n",
              "    <tr>\n",
              "      <th>2</th>\n",
              "      <td>i10</td>\n",
              "      <td>154</td>\n",
              "    </tr>\n",
              "    <tr>\n",
              "      <th>3</th>\n",
              "      <td>grand</td>\n",
              "      <td>152</td>\n",
              "    </tr>\n",
              "    <tr>\n",
              "      <th>4</th>\n",
              "      <td>polo</td>\n",
              "      <td>134</td>\n",
              "    </tr>\n",
              "    <tr>\n",
              "      <th>...</th>\n",
              "      <td>...</td>\n",
              "      <td>...</td>\n",
              "    </tr>\n",
              "    <tr>\n",
              "      <th>97</th>\n",
              "      <td>br-v</td>\n",
              "      <td>1</td>\n",
              "    </tr>\n",
              "    <tr>\n",
              "      <th>98</th>\n",
              "      <td>venture</td>\n",
              "      <td>1</td>\n",
              "    </tr>\n",
              "    <tr>\n",
              "      <th>99</th>\n",
              "      <td>redi</td>\n",
              "      <td>1</td>\n",
              "    </tr>\n",
              "    <tr>\n",
              "      <th>100</th>\n",
              "      <td>versa</td>\n",
              "      <td>1</td>\n",
              "    </tr>\n",
              "    <tr>\n",
              "      <th>101</th>\n",
              "      <td>wr-v</td>\n",
              "      <td>1</td>\n",
              "    </tr>\n",
              "  </tbody>\n",
              "</table>\n",
              "<p>102 rows × 2 columns</p>\n",
              "</div>"
            ],
            "text/plain": [
              "       index  model\n",
              "0      swift    326\n",
              "1        i20    246\n",
              "2        i10    154\n",
              "3      grand    152\n",
              "4       polo    134\n",
              "..       ...    ...\n",
              "97      br-v      1\n",
              "98   venture      1\n",
              "99      redi      1\n",
              "100    versa      1\n",
              "101     wr-v      1\n",
              "\n",
              "[102 rows x 2 columns]"
            ]
          },
          "execution_count": 55,
          "metadata": {},
          "output_type": "execute_result"
        }
      ],
      "source": [
        "top_models"
      ]
    },
    {
      "cell_type": "code",
      "execution_count": null,
      "metadata": {
        "id": "TtrlmT0SbK_k"
      },
      "outputs": [],
      "source": [
        "top_models.columns = ['model', 'count']"
      ]
    },
    {
      "cell_type": "code",
      "execution_count": null,
      "metadata": {
        "id": "8qY9vzZ4bK_k",
        "outputId": "fffa03eb-7baf-4505-f731-e210b2c42c91"
      },
      "outputs": [
        {
          "data": {
            "text/html": [
              "<div>\n",
              "<style scoped>\n",
              "    .dataframe tbody tr th:only-of-type {\n",
              "        vertical-align: middle;\n",
              "    }\n",
              "\n",
              "    .dataframe tbody tr th {\n",
              "        vertical-align: top;\n",
              "    }\n",
              "\n",
              "    .dataframe thead th {\n",
              "        text-align: right;\n",
              "    }\n",
              "</style>\n",
              "<table border=\"1\" class=\"dataframe\">\n",
              "  <thead>\n",
              "    <tr style=\"text-align: right;\">\n",
              "      <th></th>\n",
              "      <th>model</th>\n",
              "      <th>count</th>\n",
              "    </tr>\n",
              "  </thead>\n",
              "  <tbody>\n",
              "    <tr>\n",
              "      <th>0</th>\n",
              "      <td>swift</td>\n",
              "      <td>326</td>\n",
              "    </tr>\n",
              "    <tr>\n",
              "      <th>1</th>\n",
              "      <td>i20</td>\n",
              "      <td>246</td>\n",
              "    </tr>\n",
              "    <tr>\n",
              "      <th>2</th>\n",
              "      <td>i10</td>\n",
              "      <td>154</td>\n",
              "    </tr>\n",
              "    <tr>\n",
              "      <th>3</th>\n",
              "      <td>grand</td>\n",
              "      <td>152</td>\n",
              "    </tr>\n",
              "    <tr>\n",
              "      <th>4</th>\n",
              "      <td>polo</td>\n",
              "      <td>134</td>\n",
              "    </tr>\n",
              "    <tr>\n",
              "      <th>5</th>\n",
              "      <td>alto</td>\n",
              "      <td>134</td>\n",
              "    </tr>\n",
              "    <tr>\n",
              "      <th>6</th>\n",
              "      <td>wagon</td>\n",
              "      <td>125</td>\n",
              "    </tr>\n",
              "    <tr>\n",
              "      <th>7</th>\n",
              "      <td>amaze</td>\n",
              "      <td>106</td>\n",
              "    </tr>\n",
              "    <tr>\n",
              "      <th>8</th>\n",
              "      <td>figo</td>\n",
              "      <td>98</td>\n",
              "    </tr>\n",
              "    <tr>\n",
              "      <th>9</th>\n",
              "      <td>city</td>\n",
              "      <td>76</td>\n",
              "    </tr>\n",
              "  </tbody>\n",
              "</table>\n",
              "</div>"
            ],
            "text/plain": [
              "   model  count\n",
              "0  swift    326\n",
              "1    i20    246\n",
              "2    i10    154\n",
              "3  grand    152\n",
              "4   polo    134\n",
              "5   alto    134\n",
              "6  wagon    125\n",
              "7  amaze    106\n",
              "8   figo     98\n",
              "9   city     76"
            ]
          },
          "execution_count": 57,
          "metadata": {},
          "output_type": "execute_result"
        }
      ],
      "source": [
        "top_models[0:10]"
      ]
    },
    {
      "cell_type": "markdown",
      "metadata": {
        "id": "Okj1G4bNbK_k"
      },
      "source": [
        "### Top 10 reselling makes"
      ]
    },
    {
      "cell_type": "code",
      "execution_count": null,
      "metadata": {
        "id": "w6SkeiQHbK_k"
      },
      "outputs": [],
      "source": [
        "top_10_models = list(top_models['model'][0:10])"
      ]
    },
    {
      "cell_type": "code",
      "execution_count": null,
      "metadata": {
        "id": "mpNaMY5ZbK_k",
        "outputId": "2bad0e88-a33f-4338-be37-093e0f8d3944"
      },
      "outputs": [
        {
          "data": {
            "text/plain": [
              "['swift',\n",
              " 'i20',\n",
              " 'i10',\n",
              " 'grand',\n",
              " 'polo',\n",
              " 'alto',\n",
              " 'wagon',\n",
              " 'amaze',\n",
              " 'figo',\n",
              " 'city']"
            ]
          },
          "execution_count": 59,
          "metadata": {},
          "output_type": "execute_result"
        }
      ],
      "source": [
        "top_10_models"
      ]
    },
    {
      "cell_type": "code",
      "execution_count": null,
      "metadata": {
        "id": "UZA64JQebK_k",
        "outputId": "1b623cf0-5e9f-456e-a415-d429fa3df360"
      },
      "outputs": [
        {
          "data": {
            "image/png": "[encoded data removed]",
            "text/plain": [
              "<Figure size 1080x432 with 1 Axes>"
            ]
          },
          "metadata": {
            "needs_background": "light"
          },
          "output_type": "display_data"
        }
      ],
      "source": [
        "plt.figure(figsize=(15, 6))\n",
        "sn.countplot(data = cars_df,\n",
        "             x = 'model',\n",
        "             order = top_10_models);"
      ]
    },
    {
      "cell_type": "markdown",
      "metadata": {
        "id": "H5x_2v9obK_k"
      },
      "source": [
        "### 6. Participants Exercise\n",
        "\n",
        "- Plot the number of cars sold for each of years of car edition (Year) using count plot.\n",
        "- Find out top 5 makes (most number of cars sold) in used cars with sold price less than 5 lakhs."
      ]
    },
    {
      "cell_type": "markdown",
      "metadata": {
        "id": "OCgSBI-ebK_k"
      },
      "source": [
        "## Analyzing two variables"
      ]
    },
    {
      "cell_type": "markdown",
      "metadata": {
        "id": "xqIjuY73bK_k"
      },
      "source": [
        "#### Converting datatypes of columns\n",
        "\n",
        "Engine capacity, power and mileage are not numerical values. We need to convert them to numerical values for analysis."
      ]
    },
    {
      "cell_type": "code",
      "execution_count": null,
      "metadata": {
        "id": "ZqsI9FRPbK_k",
        "outputId": "a782f4e3-8daf-4b7c-fedf-a4f9fda67432"
      },
      "outputs": [
        {
          "name": "stdout",
          "output_type": "stream",
          "text": [
            "<class 'pandas.core.frame.DataFrame'>\n",
            "RangeIndex: 3092 entries, 0 to 3091\n",
            "Data columns (total 17 columns):\n",
            " #   Column             Non-Null Count  Dtype  \n",
            "---  ------             --------------  -----  \n",
            " 0   index              3092 non-null   int64  \n",
            " 1   Name               3092 non-null   object \n",
            " 2   Location           3092 non-null   object \n",
            " 3   Year               3092 non-null   int64  \n",
            " 4   Kilometers_Driven  3092 non-null   int64  \n",
            " 5   Fuel_Type          3092 non-null   object \n",
            " 6   Transmission       3092 non-null   object \n",
            " 7   Owner_Type         3092 non-null   object \n",
            " 8   Mileage            3092 non-null   object \n",
            " 9   Engine             3092 non-null   object \n",
            " 10  Power              3092 non-null   object \n",
            " 11  Seats              3091 non-null   float64\n",
            " 12  New_Price          411 non-null    object \n",
            " 13  Price              3092 non-null   float64\n",
            " 14  age                3092 non-null   int64  \n",
            " 15  make               3092 non-null   object \n",
            " 16  model              3092 non-null   object \n",
            "dtypes: float64(2), int64(4), object(11)\n",
            "memory usage: 410.8+ KB\n"
          ]
        }
      ],
      "source": [
        "cars_df.info()"
      ]
    },
    {
      "cell_type": "code",
      "execution_count": null,
      "metadata": {
        "id": "KjdPmbMzbK_k",
        "outputId": "44e53efd-471f-420d-9521-bb0a50cf9f76"
      },
      "outputs": [
        {
          "data": {
            "text/html": [
              "<div>\n",
              "<style scoped>\n",
              "    .dataframe tbody tr th:only-of-type {\n",
              "        vertical-align: middle;\n",
              "    }\n",
              "\n",
              "    .dataframe tbody tr th {\n",
              "        vertical-align: top;\n",
              "    }\n",
              "\n",
              "    .dataframe thead th {\n",
              "        text-align: right;\n",
              "    }\n",
              "</style>\n",
              "<table border=\"1\" class=\"dataframe\">\n",
              "  <thead>\n",
              "    <tr style=\"text-align: right;\">\n",
              "      <th></th>\n",
              "      <th>index</th>\n",
              "      <th>Name</th>\n",
              "      <th>Location</th>\n",
              "      <th>Year</th>\n",
              "      <th>Kilometers_Driven</th>\n",
              "      <th>Fuel_Type</th>\n",
              "      <th>Transmission</th>\n",
              "      <th>Owner_Type</th>\n",
              "      <th>Mileage</th>\n",
              "      <th>Engine</th>\n",
              "      <th>Power</th>\n",
              "      <th>Seats</th>\n",
              "      <th>New_Price</th>\n",
              "      <th>Price</th>\n",
              "      <th>age</th>\n",
              "      <th>make</th>\n",
              "      <th>model</th>\n",
              "    </tr>\n",
              "  </thead>\n",
              "  <tbody>\n",
              "    <tr>\n",
              "      <th>0</th>\n",
              "      <td>2</td>\n",
              "      <td>Honda Jazz V</td>\n",
              "      <td>Chennai</td>\n",
              "      <td>2011</td>\n",
              "      <td>46000</td>\n",
              "      <td>Petrol</td>\n",
              "      <td>Manual</td>\n",
              "      <td>First</td>\n",
              "      <td>18.2 kmpl</td>\n",
              "      <td>1199 CC</td>\n",
              "      <td>88.7 bhp</td>\n",
              "      <td>5.0</td>\n",
              "      <td>8.61 Lakh</td>\n",
              "      <td>4.5</td>\n",
              "      <td>9</td>\n",
              "      <td>honda</td>\n",
              "      <td>jazz</td>\n",
              "    </tr>\n",
              "    <tr>\n",
              "      <th>1</th>\n",
              "      <td>3</td>\n",
              "      <td>Maruti Ertiga VDI</td>\n",
              "      <td>Chennai</td>\n",
              "      <td>2012</td>\n",
              "      <td>87000</td>\n",
              "      <td>Diesel</td>\n",
              "      <td>Manual</td>\n",
              "      <td>First</td>\n",
              "      <td>20.77 kmpl</td>\n",
              "      <td>1248 CC</td>\n",
              "      <td>88.76 bhp</td>\n",
              "      <td>7.0</td>\n",
              "      <td>NaN</td>\n",
              "      <td>6.0</td>\n",
              "      <td>8</td>\n",
              "      <td>maruti</td>\n",
              "      <td>ertiga</td>\n",
              "    </tr>\n",
              "  </tbody>\n",
              "</table>\n",
              "</div>"
            ],
            "text/plain": [
              "   index               Name Location  Year  Kilometers_Driven Fuel_Type  \\\n",
              "0      2       Honda Jazz V  Chennai  2011              46000    Petrol   \n",
              "1      3  Maruti Ertiga VDI  Chennai  2012              87000    Diesel   \n",
              "\n",
              "  Transmission Owner_Type     Mileage   Engine      Power  Seats  New_Price  \\\n",
              "0       Manual      First   18.2 kmpl  1199 CC   88.7 bhp    5.0  8.61 Lakh   \n",
              "1       Manual      First  20.77 kmpl  1248 CC  88.76 bhp    7.0        NaN   \n",
              "\n",
              "   Price  age    make   model  \n",
              "0    4.5    9   honda    jazz  \n",
              "1    6.0    8  maruti  ertiga  "
            ]
          },
          "execution_count": 62,
          "metadata": {},
          "output_type": "execute_result"
        }
      ],
      "source": [
        "cars_df[0:2]"
      ]
    },
    {
      "cell_type": "code",
      "execution_count": null,
      "metadata": {
        "id": "iz8LQb63bK_k"
      },
      "outputs": [],
      "source": [
        "import math"
      ]
    },
    {
      "cell_type": "code",
      "execution_count": null,
      "metadata": {
        "id": "0TYx7pBUbK_k"
      },
      "outputs": [],
      "source": [
        "def get_float_val(x):\n",
        "    if x is None:\n",
        "        return None\n",
        "\n",
        "    val = str(x).split()[0]\n",
        "\n",
        "    if val.replace(\".\",\"\",1).isdigit():\n",
        "        return float(val)\n",
        "    else:\n",
        "        return None"
      ]
    },
    {
      "cell_type": "code",
      "execution_count": null,
      "metadata": {
        "id": "ptw3_z5FbK_k"
      },
      "outputs": [],
      "source": [
        "cars_df['mileage_new'] = cars_df.Mileage.map(lambda x: get_float_val(x))"
      ]
    },
    {
      "cell_type": "code",
      "execution_count": null,
      "metadata": {
        "id": "CiRtXj-cbK_l",
        "outputId": "455f4c07-f140-4356-b91b-771df4a1ebb7"
      },
      "outputs": [
        {
          "data": {
            "text/plain": [
              "0       18.20\n",
              "1       20.77\n",
              "2       23.08\n",
              "3       22.30\n",
              "4       25.20\n",
              "        ...  \n",
              "3087    25.80\n",
              "3088    28.40\n",
              "3089    24.40\n",
              "3090    18.90\n",
              "3091    25.44\n",
              "Name: mileage_new, Length: 3092, dtype: float64"
            ]
          },
          "execution_count": 66,
          "metadata": {},
          "output_type": "execute_result"
        }
      ],
      "source": [
        "cars_df.mileage_new"
      ]
    },
    {
      "cell_type": "code",
      "execution_count": null,
      "metadata": {
        "id": "hu-3jC_zbK_l"
      },
      "outputs": [],
      "source": [
        "cars_df['engine_new'] = cars_df.Engine.map(lambda x: get_float_val(x))\n",
        "cars_df['power_new'] = cars_df.Power.map(lambda x: get_float_val(x))"
      ]
    },
    {
      "cell_type": "code",
      "execution_count": null,
      "metadata": {
        "scrolled": true,
        "id": "4ZFGTSuMbK_l",
        "outputId": "0bef334e-84d8-47b6-c086-a4f50d7ef4f5"
      },
      "outputs": [
        {
          "name": "stdout",
          "output_type": "stream",
          "text": [
            "<class 'pandas.core.frame.DataFrame'>\n",
            "RangeIndex: 3092 entries, 0 to 3091\n",
            "Data columns (total 20 columns):\n",
            " #   Column             Non-Null Count  Dtype  \n",
            "---  ------             --------------  -----  \n",
            " 0   index              3092 non-null   int64  \n",
            " 1   Name               3092 non-null   object \n",
            " 2   Location           3092 non-null   object \n",
            " 3   Year               3092 non-null   int64  \n",
            " 4   Kilometers_Driven  3092 non-null   int64  \n",
            " 5   Fuel_Type          3092 non-null   object \n",
            " 6   Transmission       3092 non-null   object \n",
            " 7   Owner_Type         3092 non-null   object \n",
            " 8   Mileage            3092 non-null   object \n",
            " 9   Engine             3092 non-null   object \n",
            " 10  Power              3092 non-null   object \n",
            " 11  Seats              3091 non-null   float64\n",
            " 12  New_Price          411 non-null    object \n",
            " 13  Price              3092 non-null   float64\n",
            " 14  age                3092 non-null   int64  \n",
            " 15  make               3092 non-null   object \n",
            " 16  model              3092 non-null   object \n",
            " 17  mileage_new        3092 non-null   float64\n",
            " 18  engine_new         3092 non-null   float64\n",
            " 19  power_new          3092 non-null   float64\n",
            "dtypes: float64(5), int64(4), object(11)\n",
            "memory usage: 483.2+ KB\n"
          ]
        }
      ],
      "source": [
        "cars_df.info()"
      ]
    },
    {
      "cell_type": "markdown",
      "metadata": {
        "id": "f23XS37sbK_l"
      },
      "source": [
        "## Finding correlation between two numerial variables\n",
        "\n",
        "Correlation is a statistical measure that expresses the extent to which two variables are linearly related (meaning they change together at a constant rate). It’s a common tool for describing simple relationships without making a statement about cause and effect.\n",
        "\n",
        "We describe correlations with a unit-free measure called the correlation coefficient which ranges from -1 to +1 and is denoted by r.\n",
        "\n",
        "- The closer r is to zero, the weaker the linear relationship.\n",
        "- Positive r values indicate a positive correlation, where the values of both variables tend to increase together.\n",
        "- Negative r values indicate a negative correlation, where the values of one variable tend to increase when the values of the other variable decrease.\n",
        "\n",
        "Source: https://www.jmp.com/en_in/statistics-knowledge-portal/what-is-correlation.html"
      ]
    },
    {
      "cell_type": "markdown",
      "metadata": {
        "id": "-Be-ipUBbK_l"
      },
      "source": [
        "### How engine power and mileage is effecting price of the used cars?"
      ]
    },
    {
      "cell_type": "code",
      "execution_count": null,
      "metadata": {
        "id": "6QAPUziUbK_l",
        "outputId": "46b0b3bc-3560-4de8-97e3-bc621468a52e"
      },
      "outputs": [
        {
          "data": {
            "image/png": "[encoded data removed]",
            "text/plain": [
              "<Figure size 360x360 with 1 Axes>"
            ]
          },
          "metadata": {
            "needs_background": "light"
          },
          "output_type": "display_data"
        }
      ],
      "source": [
        "sn.lmplot(data = cars_df.sample(100),\n",
        "          x = 'power_new',\n",
        "          y = 'Price');"
      ]
    },
    {
      "cell_type": "code",
      "execution_count": null,
      "metadata": {
        "id": "bV7o1PYGbK_l",
        "outputId": "fe511dcb-b296-4a2e-ee9c-1c336b2ac285"
      },
      "outputs": [
        {
          "data": {
            "image/png": "[encoded data removed]",
            "text/plain": [
              "<Figure size 360x360 with 1 Axes>"
            ]
          },
          "metadata": {
            "needs_background": "light"
          },
          "output_type": "display_data"
        }
      ],
      "source": [
        "sn.lmplot(data = cars_df.sample(200),\n",
        "          x = 'mileage_new',\n",
        "          y = 'Price');"
      ]
    },
    {
      "cell_type": "markdown",
      "metadata": {
        "id": "KPUgAmuwbK_l"
      },
      "source": [
        "### 9. Participants Exercise:\n",
        "\n",
        "- Find out the correlation between\n",
        "    - engine capacity and price\n",
        "    - Kilometer driven and price"
      ]
    },
    {
      "cell_type": "markdown",
      "metadata": {
        "id": "ZKA72WpQbK_l"
      },
      "source": [
        "### Finding corrleation between multiple variables (numerical)"
      ]
    },
    {
      "cell_type": "code",
      "execution_count": null,
      "metadata": {
        "id": "0YBpG-bZbK_l"
      },
      "outputs": [],
      "source": [
        "corr_mat = cars_df[['Price',\n",
        "                    'mileage_new',\n",
        "                    'engine_new',\n",
        "                    'power_new',\n",
        "                    'Kilometers_Driven']].corr()"
      ]
    },
    {
      "cell_type": "code",
      "execution_count": null,
      "metadata": {
        "id": "TSqdJUkIbK_m",
        "outputId": "58263325-7d0c-43da-a4fc-6a38af4b2048"
      },
      "outputs": [
        {
          "data": {
            "text/html": [
              "<div>\n",
              "<style scoped>\n",
              "    .dataframe tbody tr th:only-of-type {\n",
              "        vertical-align: middle;\n",
              "    }\n",
              "\n",
              "    .dataframe tbody tr th {\n",
              "        vertical-align: top;\n",
              "    }\n",
              "\n",
              "    .dataframe thead th {\n",
              "        text-align: right;\n",
              "    }\n",
              "</style>\n",
              "<table border=\"1\" class=\"dataframe\">\n",
              "  <thead>\n",
              "    <tr style=\"text-align: right;\">\n",
              "      <th></th>\n",
              "      <th>Price</th>\n",
              "      <th>mileage_new</th>\n",
              "      <th>engine_new</th>\n",
              "      <th>power_new</th>\n",
              "      <th>Kilometers_Driven</th>\n",
              "    </tr>\n",
              "  </thead>\n",
              "  <tbody>\n",
              "    <tr>\n",
              "      <th>Price</th>\n",
              "      <td>1.000000</td>\n",
              "      <td>0.303392</td>\n",
              "      <td>0.329355</td>\n",
              "      <td>0.519470</td>\n",
              "      <td>-0.279303</td>\n",
              "    </tr>\n",
              "    <tr>\n",
              "      <th>mileage_new</th>\n",
              "      <td>0.303392</td>\n",
              "      <td>1.000000</td>\n",
              "      <td>-0.156949</td>\n",
              "      <td>-0.022680</td>\n",
              "      <td>-0.079327</td>\n",
              "    </tr>\n",
              "    <tr>\n",
              "      <th>engine_new</th>\n",
              "      <td>0.329355</td>\n",
              "      <td>-0.156949</td>\n",
              "      <td>1.000000</td>\n",
              "      <td>0.607726</td>\n",
              "      <td>0.282110</td>\n",
              "    </tr>\n",
              "    <tr>\n",
              "      <th>power_new</th>\n",
              "      <td>0.519470</td>\n",
              "      <td>-0.022680</td>\n",
              "      <td>0.607726</td>\n",
              "      <td>1.000000</td>\n",
              "      <td>0.010232</td>\n",
              "    </tr>\n",
              "    <tr>\n",
              "      <th>Kilometers_Driven</th>\n",
              "      <td>-0.279303</td>\n",
              "      <td>-0.079327</td>\n",
              "      <td>0.282110</td>\n",
              "      <td>0.010232</td>\n",
              "      <td>1.000000</td>\n",
              "    </tr>\n",
              "  </tbody>\n",
              "</table>\n",
              "</div>"
            ],
            "text/plain": [
              "                      Price  mileage_new  engine_new  power_new  \\\n",
              "Price              1.000000     0.303392    0.329355   0.519470   \n",
              "mileage_new        0.303392     1.000000   -0.156949  -0.022680   \n",
              "engine_new         0.329355    -0.156949    1.000000   0.607726   \n",
              "power_new          0.519470    -0.022680    0.607726   1.000000   \n",
              "Kilometers_Driven -0.279303    -0.079327    0.282110   0.010232   \n",
              "\n",
              "                   Kilometers_Driven  \n",
              "Price                      -0.279303  \n",
              "mileage_new                -0.079327  \n",
              "engine_new                  0.282110  \n",
              "power_new                   0.010232  \n",
              "Kilometers_Driven           1.000000  "
            ]
          },
          "execution_count": 72,
          "metadata": {},
          "output_type": "execute_result"
        }
      ],
      "source": [
        "corr_mat"
      ]
    },
    {
      "cell_type": "code",
      "execution_count": null,
      "metadata": {
        "id": "eMu6TLq1bK_m",
        "outputId": "fd29d772-9b77-4749-a252-d89c6609f244"
      },
      "outputs": [
        {
          "data": {
            "image/png": "[encoded data removed]",
            "text/plain": [
              "<Figure size 432x288 with 2 Axes>"
            ]
          },
          "metadata": {
            "needs_background": "light"
          },
          "output_type": "display_data"
        }
      ],
      "source": [
        "sn.heatmap(corr_mat,\n",
        "           annot=True,\n",
        "           vmin = -1.0,\n",
        "           vmax = 1.0,\n",
        "           cmap = sn.diverging_palette(240, 10));"
      ]
    },
    {
      "cell_type": "markdown",
      "metadata": {
        "id": "3xOpWL0EbK_m"
      },
      "source": [
        "#### Inferences\n",
        "\n",
        "- Price, Kilometers_Driven are negative correlated to price\n",
        "- engine capacity and power are positively correlatd to price"
      ]
    },
    {
      "cell_type": "code",
      "execution_count": null,
      "metadata": {
        "id": "HdVtUoJtbK_m"
      },
      "outputs": [],
      "source": [
        "cars_df.columns"
      ]
    },
    {
      "cell_type": "markdown",
      "metadata": {
        "id": "-zkhMGlVbK_m"
      },
      "source": [
        "### Drop the columns not required\n",
        "\n",
        "- Drop the following columns\n",
        "    - index, Name, Year, Kilometers_Driven, Mileage, Engine, Power, New_Price"
      ]
    },
    {
      "cell_type": "code",
      "execution_count": null,
      "metadata": {
        "id": "2IBeoCeTbK_m"
      },
      "outputs": [],
      "source": [
        "cols_to_be_dropped = [\"New_Price\",\n",
        "                      \"index\",\n",
        "                      \"Name\",\n",
        "                      \"Year\",\n",
        "                      \"Mileage\",\n",
        "                      \"Engine\",\n",
        "                      \"Power\"]"
      ]
    },
    {
      "cell_type": "code",
      "execution_count": null,
      "metadata": {
        "id": "7LSrOU0qbK_m"
      },
      "outputs": [],
      "source": [
        "new_cars_df = cars_df.drop(cols_to_be_dropped, axis = 1)"
      ]
    },
    {
      "cell_type": "code",
      "execution_count": null,
      "metadata": {
        "id": "98Qjt46ObK_m",
        "outputId": "a08e5e2e-135d-4e96-d2e7-466bea59003c"
      },
      "outputs": [
        {
          "data": {
            "text/html": [
              "<div>\n",
              "<style scoped>\n",
              "    .dataframe tbody tr th:only-of-type {\n",
              "        vertical-align: middle;\n",
              "    }\n",
              "\n",
              "    .dataframe tbody tr th {\n",
              "        vertical-align: top;\n",
              "    }\n",
              "\n",
              "    .dataframe thead th {\n",
              "        text-align: right;\n",
              "    }\n",
              "</style>\n",
              "<table border=\"1\" class=\"dataframe\">\n",
              "  <thead>\n",
              "    <tr style=\"text-align: right;\">\n",
              "      <th></th>\n",
              "      <th>Location</th>\n",
              "      <th>Kilometers_Driven</th>\n",
              "      <th>Fuel_Type</th>\n",
              "      <th>Transmission</th>\n",
              "      <th>Owner_Type</th>\n",
              "      <th>Seats</th>\n",
              "      <th>Price</th>\n",
              "      <th>age</th>\n",
              "      <th>make</th>\n",
              "      <th>model</th>\n",
              "      <th>mileage_new</th>\n",
              "      <th>engine_new</th>\n",
              "      <th>power_new</th>\n",
              "    </tr>\n",
              "  </thead>\n",
              "  <tbody>\n",
              "    <tr>\n",
              "      <th>0</th>\n",
              "      <td>Chennai</td>\n",
              "      <td>46000</td>\n",
              "      <td>Petrol</td>\n",
              "      <td>Manual</td>\n",
              "      <td>First</td>\n",
              "      <td>5.0</td>\n",
              "      <td>4.50</td>\n",
              "      <td>9</td>\n",
              "      <td>honda</td>\n",
              "      <td>jazz</td>\n",
              "      <td>18.20</td>\n",
              "      <td>1199.0</td>\n",
              "      <td>88.70</td>\n",
              "    </tr>\n",
              "    <tr>\n",
              "      <th>1</th>\n",
              "      <td>Chennai</td>\n",
              "      <td>87000</td>\n",
              "      <td>Diesel</td>\n",
              "      <td>Manual</td>\n",
              "      <td>First</td>\n",
              "      <td>7.0</td>\n",
              "      <td>6.00</td>\n",
              "      <td>8</td>\n",
              "      <td>maruti</td>\n",
              "      <td>ertiga</td>\n",
              "      <td>20.77</td>\n",
              "      <td>1248.0</td>\n",
              "      <td>88.76</td>\n",
              "    </tr>\n",
              "    <tr>\n",
              "      <th>2</th>\n",
              "      <td>Jaipur</td>\n",
              "      <td>86999</td>\n",
              "      <td>Diesel</td>\n",
              "      <td>Manual</td>\n",
              "      <td>First</td>\n",
              "      <td>5.0</td>\n",
              "      <td>3.50</td>\n",
              "      <td>7</td>\n",
              "      <td>nissan</td>\n",
              "      <td>micra</td>\n",
              "      <td>23.08</td>\n",
              "      <td>1461.0</td>\n",
              "      <td>63.10</td>\n",
              "    </tr>\n",
              "    <tr>\n",
              "      <th>3</th>\n",
              "      <td>Chennai</td>\n",
              "      <td>65932</td>\n",
              "      <td>Diesel</td>\n",
              "      <td>Manual</td>\n",
              "      <td>Second</td>\n",
              "      <td>5.0</td>\n",
              "      <td>1.95</td>\n",
              "      <td>8</td>\n",
              "      <td>tata</td>\n",
              "      <td>indica</td>\n",
              "      <td>22.30</td>\n",
              "      <td>1248.0</td>\n",
              "      <td>74.00</td>\n",
              "    </tr>\n",
              "    <tr>\n",
              "      <th>4</th>\n",
              "      <td>Jaipur</td>\n",
              "      <td>64424</td>\n",
              "      <td>Diesel</td>\n",
              "      <td>Manual</td>\n",
              "      <td>First</td>\n",
              "      <td>5.0</td>\n",
              "      <td>5.60</td>\n",
              "      <td>5</td>\n",
              "      <td>maruti</td>\n",
              "      <td>swift</td>\n",
              "      <td>25.20</td>\n",
              "      <td>1248.0</td>\n",
              "      <td>74.00</td>\n",
              "    </tr>\n",
              "    <tr>\n",
              "      <th>...</th>\n",
              "      <td>...</td>\n",
              "      <td>...</td>\n",
              "      <td>...</td>\n",
              "      <td>...</td>\n",
              "      <td>...</td>\n",
              "      <td>...</td>\n",
              "      <td>...</td>\n",
              "      <td>...</td>\n",
              "      <td>...</td>\n",
              "      <td>...</td>\n",
              "      <td>...</td>\n",
              "      <td>...</td>\n",
              "      <td>...</td>\n",
              "    </tr>\n",
              "    <tr>\n",
              "      <th>3087</th>\n",
              "      <td>Coimbatore</td>\n",
              "      <td>70602</td>\n",
              "      <td>Diesel</td>\n",
              "      <td>Manual</td>\n",
              "      <td>First</td>\n",
              "      <td>5.0</td>\n",
              "      <td>4.83</td>\n",
              "      <td>5</td>\n",
              "      <td>honda</td>\n",
              "      <td>amaze</td>\n",
              "      <td>25.80</td>\n",
              "      <td>1498.0</td>\n",
              "      <td>98.60</td>\n",
              "    </tr>\n",
              "    <tr>\n",
              "      <th>3088</th>\n",
              "      <td>Delhi</td>\n",
              "      <td>27365</td>\n",
              "      <td>Diesel</td>\n",
              "      <td>Manual</td>\n",
              "      <td>First</td>\n",
              "      <td>5.0</td>\n",
              "      <td>4.75</td>\n",
              "      <td>6</td>\n",
              "      <td>maruti</td>\n",
              "      <td>swift</td>\n",
              "      <td>28.40</td>\n",
              "      <td>1248.0</td>\n",
              "      <td>74.00</td>\n",
              "    </tr>\n",
              "    <tr>\n",
              "      <th>3089</th>\n",
              "      <td>Jaipur</td>\n",
              "      <td>100000</td>\n",
              "      <td>Diesel</td>\n",
              "      <td>Manual</td>\n",
              "      <td>First</td>\n",
              "      <td>5.0</td>\n",
              "      <td>4.00</td>\n",
              "      <td>5</td>\n",
              "      <td>hyundai</td>\n",
              "      <td>xcent</td>\n",
              "      <td>24.40</td>\n",
              "      <td>1120.0</td>\n",
              "      <td>71.00</td>\n",
              "    </tr>\n",
              "    <tr>\n",
              "      <th>3090</th>\n",
              "      <td>Kolkata</td>\n",
              "      <td>46000</td>\n",
              "      <td>Petrol</td>\n",
              "      <td>Manual</td>\n",
              "      <td>First</td>\n",
              "      <td>5.0</td>\n",
              "      <td>2.65</td>\n",
              "      <td>7</td>\n",
              "      <td>maruti</td>\n",
              "      <td>wagon</td>\n",
              "      <td>18.90</td>\n",
              "      <td>998.0</td>\n",
              "      <td>67.10</td>\n",
              "    </tr>\n",
              "    <tr>\n",
              "      <th>3091</th>\n",
              "      <td>Hyderabad</td>\n",
              "      <td>47000</td>\n",
              "      <td>Diesel</td>\n",
              "      <td>Manual</td>\n",
              "      <td>First</td>\n",
              "      <td>5.0</td>\n",
              "      <td>2.50</td>\n",
              "      <td>9</td>\n",
              "      <td>chevrolet</td>\n",
              "      <td>beat</td>\n",
              "      <td>25.44</td>\n",
              "      <td>936.0</td>\n",
              "      <td>57.60</td>\n",
              "    </tr>\n",
              "  </tbody>\n",
              "</table>\n",
              "<p>3092 rows × 13 columns</p>\n",
              "</div>"
            ],
            "text/plain": [
              "        Location  Kilometers_Driven Fuel_Type Transmission Owner_Type  Seats  \\\n",
              "0        Chennai              46000    Petrol       Manual      First    5.0   \n",
              "1        Chennai              87000    Diesel       Manual      First    7.0   \n",
              "2         Jaipur              86999    Diesel       Manual      First    5.0   \n",
              "3        Chennai              65932    Diesel       Manual     Second    5.0   \n",
              "4         Jaipur              64424    Diesel       Manual      First    5.0   \n",
              "...          ...                ...       ...          ...        ...    ...   \n",
              "3087  Coimbatore              70602    Diesel       Manual      First    5.0   \n",
              "3088       Delhi              27365    Diesel       Manual      First    5.0   \n",
              "3089      Jaipur             100000    Diesel       Manual      First    5.0   \n",
              "3090     Kolkata              46000    Petrol       Manual      First    5.0   \n",
              "3091   Hyderabad              47000    Diesel       Manual      First    5.0   \n",
              "\n",
              "      Price  age       make   model  mileage_new  engine_new  power_new  \n",
              "0      4.50    9      honda    jazz        18.20      1199.0      88.70  \n",
              "1      6.00    8     maruti  ertiga        20.77      1248.0      88.76  \n",
              "2      3.50    7     nissan   micra        23.08      1461.0      63.10  \n",
              "3      1.95    8       tata  indica        22.30      1248.0      74.00  \n",
              "4      5.60    5     maruti   swift        25.20      1248.0      74.00  \n",
              "...     ...  ...        ...     ...          ...         ...        ...  \n",
              "3087   4.83    5      honda   amaze        25.80      1498.0      98.60  \n",
              "3088   4.75    6     maruti   swift        28.40      1248.0      74.00  \n",
              "3089   4.00    5    hyundai   xcent        24.40      1120.0      71.00  \n",
              "3090   2.65    7     maruti   wagon        18.90       998.0      67.10  \n",
              "3091   2.50    9  chevrolet    beat        25.44       936.0      57.60  \n",
              "\n",
              "[3092 rows x 13 columns]"
            ]
          },
          "execution_count": 76,
          "metadata": {},
          "output_type": "execute_result"
        }
      ],
      "source": [
        "new_cars_df"
      ]
    },
    {
      "cell_type": "markdown",
      "metadata": {
        "id": "8pwjBzzVbK_m"
      },
      "source": [
        "### Saving the dataset (with new features)"
      ]
    },
    {
      "cell_type": "code",
      "execution_count": null,
      "metadata": {
        "id": "HW2iSXpEbK_m"
      },
      "outputs": [],
      "source": [
        "new_cars_df.to_csv( \"new_used_car.csv\", index = False)"
      ]
    }
  ],
  "metadata": {
    "kernelspec": {
      "display_name": "Python 3",
      "language": "python",
      "name": "python3"
    },
    "language_info": {
      "codemirror_mode": {
        "name": "ipython",
        "version": 3
      },
      "file_extension": ".py",
      "mimetype": "text/x-python",
      "name": "python",
      "nbconvert_exporter": "python",
      "pygments_lexer": "ipython3",
      "version": "3.8.3"
    },
    "colab": {
      "provenance": []
    }
  },
  "nbformat": 4,
  "nbformat_minor": 0
}